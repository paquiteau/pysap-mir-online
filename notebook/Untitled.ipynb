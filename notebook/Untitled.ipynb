{
 "cells": [
  {
   "cell_type": "code",
   "execution_count": 1,
   "id": "51fc1ea6-427d-46f2-955f-f58f9e56334e",
   "metadata": {},
   "outputs": [
    {
     "name": "stdout",
     "output_type": "stream",
     "text": [
      "/home/pac/gits/phd/mri-online\n"
     ]
    }
   ],
   "source": [
    "%cd /home/pac/gits/phd/mri-online/"
   ]
  },
  {
   "cell_type": "code",
   "execution_count": 2,
   "id": "608c23ee-bbee-462e-8602-7342f614de38",
   "metadata": {},
   "outputs": [
    {
     "name": "stderr",
     "output_type": "stream",
     "text": [
      "/home/pac/gits/phd/pysap-mri/mri/operators/fourier/non_cartesian.py:27: UserWarning: pynfft python package has not been found. If needed use the master release.\n",
      "  warnings.warn(\"pynfft python package has not been found. If needed use \"\n",
      "/home/pac/gits/phd/pysap-mri/mri/operators/fourier/non_cartesian.py:42: UserWarning: gpuNUFFT python package has not been found. If needed please check on how to install in README\n",
      "  warnings.warn(\"gpuNUFFT python package has not been found. If needed \"\n"
     ]
    }
   ],
   "source": [
    "import yaml\n",
    "import pprint\n",
    "import matplotlib.pyplot as plt\n",
    "import numpy as np\n",
    "from pprint import pprint\n",
    "import tikzplotlib as tikz\n",
    "from results.base import Experience, loader\n",
    "from results.plot import plot_metrics, plot_line, make_gif\n",
    "\n",
    "from project_utils import implot, imsave, load_data\n",
    "from online.metrics import psnr_ssos, ssim_ssos, ssos"
   ]
  },
  {
   "cell_type": "code",
   "execution_count": 3,
   "id": "10faf891-2b98-440b-a295-e510eb20784f",
   "metadata": {},
   "outputs": [],
   "source": [
    "%matplotlib widget\n",
    "plt.rcParams['figure.figsize'] = (12, 6)\n",
    "DATA_DIR = \"data/\"\n",
    "PLOT_DIR = \"/home/pac/gits/rep/report-mri-online/plot/\"\n",
    "\n",
    "TIKZ_DICT={'override_externals':True,\n",
    "           'axis_width':'\\\\mywidth',\n",
    "           'axis_height':'\\\\myheight',\n",
    "           'extra_axis_parameters':['y tick label style={font=\\\\footnotesize}','x tick label style={font=\\\\footnotesize}','ylabel style={font=\\\\footnotesize}','xlabel style={font=\\\\footnotesize}','legend style={font=\\\\footnotesize}',]}\n",
    "\n",
    "full_k, real_img, mask_loc, final_mask = load_data(DATA_DIR,1)\n",
    "square_mask= np.zeros(real_img.shape)\n",
    "real_img_size = real_img.shape\n",
    "img_size = [min(real_img.shape)]*2\n",
    "square_mask[real_img_size[0] // 2 - img_size[0] // 2:real_img_size[0] // 2 + img_size[0] // 2,\n",
    "            real_img_size[1] // 2 - img_size[1] // 2:real_img_size[1] // 2 + img_size[1] // 2] = 1\n",
    "\n",
    "default_weight=2e-6"
   ]
  },
  {
   "cell_type": "code",
   "execution_count": 4,
   "id": "c753b6d5-6f38-4d04-a503-fc0ae5ffb7b7",
   "metadata": {},
   "outputs": [],
   "source": [
    "with open('results/tested_config.yml') as f:\n",
    "    tested_cfg = yaml.load(f, Loader=loader)\n",
    "Experience.save_folder = 'results/simuls/'\n",
    "Experience.objects.flush()\n",
    "for cfg in tested_cfg:\n",
    "    Experience.objects.add(Experience(**cfg))\n",
    "    \n",
    "    \n",
    "multicoil= Experience.objects.filter(mode='and',data__monocoil=False,)\n",
    "monocoil= Experience.objects.filter(mode='and',data__monocoil=True,)"
   ]
  },
  {
   "cell_type": "code",
   "execution_count": 5,
   "id": "2755eedd-b652-4f1c-abbe-998615edc37e",
   "metadata": {},
   "outputs": [
    {
     "data": {
      "application/vnd.jupyter.widget-view+json": {
       "model_id": "d9fce69a33064b0dab71a6eaa5b27f48",
       "version_major": 2,
       "version_minor": 0
      },
      "text/plain": [
       "Canvas(toolbar=Toolbar(toolitems=[('Home', 'Reset original view', 'home', 'home'), ('Back', 'Back to previous …"
      ]
     },
     "metadata": {},
     "output_type": "display_data"
    },
    {
     "name": "stdout",
     "output_type": "stream",
     "text": [
      "{\"data\": {\"data_idx\": 1, \"monocoil\": false}, \"problem\": {\"fourier_type\": 2, \"linear\": {\"class\": \"Identity\"}, \"regularisation\": {\"class\": \"IdentityProx\"}}, \"solver\": {\"algo\": \"vanilla\", \"eta\": 1.0, \"nb_run\": 1}}\n",
      "{\"data\": {\"data_idx\": 1, \"monocoil\": false}, \"problem\": {\"fourier_type\": 2, \"linear\": {\"class\": \"Identity\"}, \"regularisation\": {\"class\": \"IdentityProx\"}}, \"solver\": {\"algo\": \"pogm\", \"nb_run\": 1}}\n",
      "data_idx=1, not monocoil, Identity, IdentityProx\n"
     ]
    },
    {
     "data": {
      "application/vnd.jupyter.widget-view+json": {
       "model_id": "48241d1ded5c4f189d488fa7f7c487c9",
       "version_major": 2,
       "version_minor": 0
      },
      "text/plain": [
       "Canvas(toolbar=Toolbar(toolitems=[('Home', 'Reset original view', 'home', 'home'), ('Back', 'Back to previous …"
      ]
     },
     "metadata": {},
     "output_type": "display_data"
    },
    {
     "name": "stdout",
     "output_type": "stream",
     "text": [
      "{\"data\": {\"data_idx\": 1, \"monocoil\": false}, \"problem\": {\"fourier_type\": 2, \"linear\": {\"class\": \"Identity\"}, \"regularisation\": {\"class\": \"IdentityProx\"}}, \"solver\": {\"algo\": \"vanilla\", \"eta\": 1.0, \"nb_run\": 1}}\n",
      "{\"data\": {\"data_idx\": 1, \"monocoil\": false}, \"problem\": {\"fourier_type\": 2, \"linear\": {\"class\": \"Identity\"}, \"regularisation\": {\"class\": \"IdentityProx\"}}, \"solver\": {\"algo\": \"pogm\", \"nb_run\": 1}}\n",
      "data_idx=1, not monocoil, Identity, IdentityProx\n"
     ]
    }
   ],
   "source": [
    "f= plot_metrics(multicoil.filter(problem__regularisation__class='IdentityProx'),('cost','cost_off'),ignore_keys=('nb_run',))\n",
    "f= plot_metrics(multicoil.filter(problem__regularisation__class='IdentityProx'),('psnr','ssim'),ignore_keys=('nb_run',),log=False)"
   ]
  },
  {
   "cell_type": "code",
   "execution_count": 6,
   "id": "007e66e3-408f-49a7-98ec-068cd8b35a02",
   "metadata": {},
   "outputs": [
    {
     "data": {
      "application/vnd.jupyter.widget-view+json": {
       "model_id": "ec0b4023c8dd486984220fe2ae4eee35",
       "version_major": 2,
       "version_minor": 0
      },
      "text/plain": [
       "Canvas(toolbar=Toolbar(toolitems=[('Home', 'Reset original view', 'home', 'home'), ('Back', 'Back to previous …"
      ]
     },
     "metadata": {},
     "output_type": "display_data"
    },
    {
     "name": "stdout",
     "output_type": "stream",
     "text": [
      "data_idx=1, not monocoil, WaveletN, nb_scale=4, sym8, GroupLASSO, weights=5.00e-07\n"
     ]
    },
    {
     "data": {
      "application/vnd.jupyter.widget-view+json": {
       "model_id": "32da581f7ed941b2b6ca60645e25a575",
       "version_major": 2,
       "version_minor": 0
      },
      "text/plain": [
       "Canvas(toolbar=Toolbar(toolitems=[('Home', 'Reset original view', 'home', 'home'), ('Back', 'Back to previous …"
      ]
     },
     "metadata": {},
     "output_type": "display_data"
    },
    {
     "name": "stdout",
     "output_type": "stream",
     "text": [
      "data_idx=1, not monocoil, WaveletN, nb_scale=4, sym8, GroupLASSO, weights=5.00e-07\n"
     ]
    }
   ],
   "source": [
    "\n",
    "f= plot_metrics(multicoil.filter(problem__regularisation__class__neq='IdentityProx'),('cost','cost_off'),ignore_keys=('nb_run',))\n",
    "f= plot_metrics(multicoil.filter(problem__regularisation__class__neq='IdentityProx'),('psnr','ssim'),ignore_keys=('nb_run',),log=False)"
   ]
  },
  {
   "cell_type": "code",
   "execution_count": 7,
   "id": "e2e31e94-c529-493f-9556-e8e1ad0f1e8a",
   "metadata": {},
   "outputs": [],
   "source": [
    "# Monocoil"
   ]
  },
  {
   "cell_type": "code",
   "execution_count": 8,
   "id": "8e0c8852-ceda-4f00-853f-f7f07bafb965",
   "metadata": {},
   "outputs": [
    {
     "name": "stdout",
     "output_type": "stream",
     "text": [
      "ExperienceSet({\"data\": {\"data_idx\": 1, \"monocoil\": true}, \"problem\": {\"fourier_type\": 2, \"linear\": {\"class\": \"WaveletN\", \"nb_scale\": 4, \"wavelet_name\": \"sym8\"}, \"regularisation\": {\"class\": \"GroupLASSO\", \"weights\": 5e-07}}, \"solver\": {\"algo\": \"momentum\", \"beta\": 0.1, \"eta\": 1.0, \"nb_run\": 2}}\n",
      "{\"data\": {\"data_idx\": 1, \"monocoil\": true}, \"problem\": {\"fourier_type\": 0, \"linear\": {\"class\": \"WaveletN\", \"nb_scale\": 4, \"wavelet_name\": \"sym8\"}, \"regularisation\": {\"class\": \"LASSO\", \"weights\": 1e-06}}, \"solver\": {\"algo\": \"pogm\", \"nb_run\": 1}}\n",
      "{\"data\": {\"data_idx\": 1, \"monocoil\": true}, \"problem\": {\"fourier_type\": 2, \"linear\": {\"class\": \"WaveletN\", \"nb_scale\": 4, \"wavelet_name\": \"sym8\"}, \"regularisation\": {\"class\": \"GroupLASSO\", \"weights\": 5e-07}}, \"solver\": {\"algo\": \"vanilla\", \"eta\": 1.0, \"nb_run\": 1}}\n",
      "{\"data\": {\"data_idx\": 1, \"monocoil\": true}, \"problem\": {\"fourier_type\": 2, \"linear\": {\"class\": \"WaveletN\", \"nb_scale\": 4, \"wavelet_name\": \"sym8\"}, \"regularisation\": {\"class\": \"GroupLASSO\", \"weights\": 5e-07}}, \"solver\": {\"algo\": \"momentum\", \"beta\": 0.5, \"eta\": 1.0, \"nb_run\": 1}}\n",
      "{\"data\": {\"data_idx\": 1, \"monocoil\": true}, \"problem\": {\"fourier_type\": 2, \"linear\": {\"class\": \"Identity\"}, \"regularisation\": {\"class\": \"IdentityProx\"}}, \"solver\": {\"algo\": \"momentum\", \"beta\": 0.1, \"eta\": 1.0, \"nb_run\": 1}}\n",
      "{\"data\": {\"data_idx\": 1, \"monocoil\": true}, \"problem\": {\"fourier_type\": 2, \"linear\": {\"class\": \"WaveletN\", \"nb_scale\": 4, \"wavelet_name\": \"sym8\"}, \"regularisation\": {\"class\": \"GroupLASSO\", \"weights\": 5e-07}}, \"solver\": {\"algo\": \"momentum\", \"beta\": 1.0, \"eta\": 1.0, \"nb_run\": 1}}\n",
      "{\"data\": {\"data_idx\": 1, \"monocoil\": true}, \"problem\": {\"fourier_type\": 2, \"linear\": {\"class\": \"Identity\"}, \"regularisation\": {\"class\": \"IdentityProx\"}}, \"solver\": {\"algo\": \"momentum\", \"beta\": 0.5, \"eta\": 1.0, \"nb_run\": 2}}\n",
      "{\"data\": {\"data_idx\": 1, \"monocoil\": true}, \"problem\": {\"fourier_type\": 0, \"linear\": {\"class\": \"WaveletN\", \"nb_scale\": 4, \"wavelet_name\": \"sym8\"}, \"regularisation\": {\"class\": \"LASSO\", \"weights\": 1e-06}}, \"solver\": {\"algo\": \"vanilla\", \"eta\": 1.0, \"nb_run\": 1}}\n",
      "{\"data\": {\"data_idx\": 1, \"monocoil\": true}, \"problem\": {\"fourier_type\": 1, \"linear\": {\"class\": \"WaveletN\", \"nb_scale\": 4, \"wavelet_name\": \"sym8\"}, \"regularisation\": {\"class\": \"LASSO\", \"weights\": 1e-06}}, \"solver\": {\"algo\": \"pogm\", \"nb_run\": 1}}\n",
      "{\"data\": {\"data_idx\": 1, \"monocoil\": true}, \"problem\": {\"fourier_type\": 2, \"linear\": {\"class\": \"WaveletN\", \"nb_scale\": 4, \"wavelet_name\": \"sym8\"}, \"regularisation\": {\"class\": \"GroupLASSO\", \"weights\": 5e-07}}, \"solver\": {\"algo\": \"pogm\", \"nb_run\": 1}}\n",
      "{\"data\": {\"data_idx\": 1, \"monocoil\": true}, \"problem\": {\"fourier_type\": 0, \"linear\": {\"class\": \"WaveletN\", \"nb_scale\": 4, \"wavelet_name\": \"sym8\"}, \"regularisation\": {\"class\": \"GroupLASSO\", \"weights\": 5e-07}}, \"solver\": {\"algo\": \"vanilla\", \"eta\": 1.0, \"nb_run\": 1}}\n",
      "{\"data\": {\"data_idx\": 1, \"monocoil\": true}, \"problem\": {\"fourier_type\": 2, \"linear\": {\"class\": \"WaveletN\", \"nb_scale\": 4, \"wavelet_name\": \"sym8\"}, \"regularisation\": {\"class\": \"GroupLASSO\", \"weights\": 5e-07}}, \"solver\": {\"algo\": \"pogm\", \"nb_run\": 1}}\n",
      "{\"data\": {\"data_idx\": 1, \"monocoil\": true}, \"problem\": {\"fourier_type\": 1, \"linear\": {\"class\": \"WaveletN\", \"nb_scale\": 4, \"wavelet_name\": \"sym8\"}, \"regularisation\": {\"class\": \"GroupLASSO\", \"weights\": 5e-07}}, \"solver\": {\"algo\": \"vanilla\", \"eta\": 1.0, \"nb_run\": 1}}\n",
      "{\"data\": {\"data_idx\": 1, \"monocoil\": true}, \"problem\": {\"fourier_type\": 1, \"linear\": {\"class\": \"WaveletN\", \"nb_scale\": 4, \"wavelet_name\": \"sym8\"}, \"regularisation\": {\"class\": \"LASSO\", \"weights\": 1e-06}}, \"solver\": {\"algo\": \"vanilla\", \"eta\": 1.0, \"nb_run\": 1}}\n",
      "{\"data\": {\"data_idx\": 1, \"monocoil\": true}, \"problem\": {\"fourier_type\": 2, \"linear\": {\"class\": \"Identity\"}, \"regularisation\": {\"class\": \"IdentityProx\"}}, \"solver\": {\"algo\": \"momentum\", \"beta\": 0.1, \"eta\": 1.0, \"nb_run\": 2}}\n",
      "{\"data\": {\"data_idx\": 1, \"monocoil\": true}, \"problem\": {\"fourier_type\": 2, \"linear\": {\"class\": \"WaveletN\", \"nb_scale\": 4, \"wavelet_name\": \"sym8\"}, \"regularisation\": {\"class\": \"GroupLASSO\", \"weights\": 5e-07}}, \"solver\": {\"algo\": \"vanilla\", \"eta\": 1.0, \"nb_run\": 2}}\n",
      "{\"data\": {\"data_idx\": 1, \"monocoil\": true}, \"problem\": {\"fourier_type\": 1, \"linear\": {\"class\": \"WaveletN\", \"nb_scale\": 4, \"wavelet_name\": \"sym8\"}, \"regularisation\": {\"class\": \"GroupLASSO\", \"weights\": 5e-07}}, \"solver\": {\"algo\": \"pogm\", \"nb_run\": 1}}\n",
      "{\"data\": {\"data_idx\": 1, \"monocoil\": true}, \"problem\": {\"fourier_type\": 1, \"linear\": {\"class\": \"Identity\"}, \"regularisation\": {\"class\": \"IdentityProx\"}}, \"solver\": {\"algo\": \"pogm\", \"nb_run\": 1}}\n",
      "{\"data\": {\"data_idx\": 1, \"monocoil\": true}, \"problem\": {\"fourier_type\": 2, \"linear\": {\"class\": \"Identity\"}, \"regularisation\": {\"class\": \"IdentityProx\"}}, \"solver\": {\"algo\": \"pogm\", \"nb_run\": 1}}\n",
      "{\"data\": {\"data_idx\": 1, \"monocoil\": true}, \"problem\": {\"fourier_type\": 2, \"linear\": {\"class\": \"Identity\"}, \"regularisation\": {\"class\": \"IdentityProx\"}}, \"solver\": {\"algo\": \"pogm\", \"nb_run\": 1}}\n",
      "{\"data\": {\"data_idx\": 1, \"monocoil\": true}, \"problem\": {\"fourier_type\": 1, \"linear\": {\"class\": \"Identity\"}, \"regularisation\": {\"class\": \"IdentityProx\"}}, \"solver\": {\"algo\": \"vanilla\", \"eta\": 1.0, \"nb_run\": 1}}\n",
      "{\"data\": {\"data_idx\": 1, \"monocoil\": true}, \"problem\": {\"fourier_type\": 2, \"linear\": {\"class\": \"WaveletN\", \"nb_scale\": 4, \"wavelet_name\": \"sym8\"}, \"regularisation\": {\"class\": \"LASSO\", \"weights\": 1e-06}}, \"solver\": {\"algo\": \"pogm\", \"nb_run\": 1}}\n",
      "{\"data\": {\"data_idx\": 1, \"monocoil\": true}, \"problem\": {\"fourier_type\": 0, \"linear\": {\"class\": \"Identity\"}, \"regularisation\": {\"class\": \"IdentityProx\"}}, \"solver\": {\"algo\": \"pogm\", \"nb_run\": 1}}\n",
      "{\"data\": {\"data_idx\": 1, \"monocoil\": true}, \"problem\": {\"fourier_type\": 0, \"linear\": {\"class\": \"Identity\"}, \"regularisation\": {\"class\": \"IdentityProx\"}}, \"solver\": {\"algo\": \"vanilla\", \"eta\": 1.0, \"nb_run\": 1}}\n",
      "{\"data\": {\"data_idx\": 1, \"monocoil\": true}, \"problem\": {\"fourier_type\": 2, \"linear\": {\"class\": \"WaveletN\", \"nb_scale\": 4, \"wavelet_name\": \"sym8\"}, \"regularisation\": {\"class\": \"LASSO\", \"weights\": 1e-06}}, \"solver\": {\"algo\": \"vanilla\", \"eta\": 1.0, \"nb_run\": 1}}\n",
      "{\"data\": {\"data_idx\": 1, \"monocoil\": true}, \"problem\": {\"fourier_type\": 2, \"linear\": {\"class\": \"Identity\"}, \"regularisation\": {\"class\": \"IdentityProx\"}}, \"solver\": {\"algo\": \"momentum\", \"beta\": 1.0, \"eta\": 1.0, \"nb_run\": 2}}\n",
      "{\"data\": {\"data_idx\": 1, \"monocoil\": true}, \"problem\": {\"fourier_type\": 2, \"linear\": {\"class\": \"Identity\"}, \"regularisation\": {\"class\": \"IdentityProx\"}}, \"solver\": {\"algo\": \"momentum\", \"beta\": 1.0, \"eta\": 1.0, \"nb_run\": 1}}\n",
      "{\"data\": {\"data_idx\": 1, \"monocoil\": true}, \"problem\": {\"fourier_type\": 2, \"linear\": {\"class\": \"Identity\"}, \"regularisation\": {\"class\": \"IdentityProx\"}}, \"solver\": {\"algo\": \"momentum\", \"beta\": 0.5, \"eta\": 1.0, \"nb_run\": 1}}\n",
      "{\"data\": {\"data_idx\": 1, \"monocoil\": true}, \"problem\": {\"fourier_type\": 2, \"linear\": {\"class\": \"WaveletN\", \"nb_scale\": 4, \"wavelet_name\": \"sym8\"}, \"regularisation\": {\"class\": \"GroupLASSO\", \"weights\": 5e-07}}, \"solver\": {\"algo\": \"momentum\", \"beta\": 0.5, \"eta\": 1.0, \"nb_run\": 2}}\n",
      "{\"data\": {\"data_idx\": 1, \"monocoil\": true}, \"problem\": {\"fourier_type\": 2, \"linear\": {\"class\": \"Identity\"}, \"regularisation\": {\"class\": \"IdentityProx\"}}, \"solver\": {\"algo\": \"vanilla\", \"eta\": 1.0, \"nb_run\": 1}}\n",
      "{\"data\": {\"data_idx\": 1, \"monocoil\": true}, \"problem\": {\"fourier_type\": 2, \"linear\": {\"class\": \"Identity\"}, \"regularisation\": {\"class\": \"IdentityProx\"}}, \"solver\": {\"algo\": \"vanilla\", \"eta\": 1.0, \"nb_run\": 1}}\n",
      "{\"data\": {\"data_idx\": 1, \"monocoil\": true}, \"problem\": {\"fourier_type\": 0, \"linear\": {\"class\": \"WaveletN\", \"nb_scale\": 4, \"wavelet_name\": \"sym8\"}, \"regularisation\": {\"class\": \"GroupLASSO\", \"weights\": 5e-07}}, \"solver\": {\"algo\": \"pogm\", \"nb_run\": 1}}\n",
      "{\"data\": {\"data_idx\": 1, \"monocoil\": true}, \"problem\": {\"fourier_type\": 2, \"linear\": {\"class\": \"WaveletN\", \"nb_scale\": 4, \"wavelet_name\": \"sym8\"}, \"regularisation\": {\"class\": \"GroupLASSO\", \"weights\": 5e-07}}, \"solver\": {\"algo\": \"momentum\", \"beta\": 1.0, \"eta\": 1.0, \"nb_run\": 2}}\n",
      "{\"data\": {\"data_idx\": 1, \"monocoil\": true}, \"problem\": {\"fourier_type\": 2, \"linear\": {\"class\": \"WaveletN\", \"nb_scale\": 4, \"wavelet_name\": \"sym8\"}, \"regularisation\": {\"class\": \"GroupLASSO\", \"weights\": 5e-07}}, \"solver\": {\"algo\": \"vanilla\", \"eta\": 1.0, \"nb_run\": 1}}\n",
      "{\"data\": {\"data_idx\": 1, \"monocoil\": true}, \"problem\": {\"fourier_type\": 2, \"linear\": {\"class\": \"WaveletN\", \"nb_scale\": 4, \"wavelet_name\": \"sym8\"}, \"regularisation\": {\"class\": \"GroupLASSO\", \"weights\": 5e-07}}, \"solver\": {\"algo\": \"momentum\", \"beta\": 0.1, \"eta\": 1.0, \"nb_run\": 1}}\n",
      "):35 Elements\n"
     ]
    },
    {
     "data": {
      "application/vnd.jupyter.widget-view+json": {
       "model_id": "86452933a0ae42f0aa3a5e2ffe099e7e",
       "version_major": 2,
       "version_minor": 0
      },
      "text/plain": [
       "Canvas(toolbar=Toolbar(toolitems=[('Home', 'Reset original view', 'home', 'home'), ('Back', 'Back to previous …"
      ]
     },
     "metadata": {},
     "output_type": "display_data"
    },
    {
     "name": "stdout",
     "output_type": "stream",
     "text": [
      "{\"data\": {\"data_idx\": 1, \"monocoil\": true}, \"problem\": {\"fourier_type\": 2, \"linear\": {\"class\": \"Identity\"}, \"regularisation\": {\"class\": \"IdentityProx\"}}, \"solver\": {\"algo\": \"vanilla\", \"eta\": 1.0, \"nb_run\": 1}}\n",
      "{\"data\": {\"data_idx\": 1, \"monocoil\": true}, \"problem\": {\"fourier_type\": 2, \"linear\": {\"class\": \"Identity\"}, \"regularisation\": {\"class\": \"IdentityProx\"}}, \"solver\": {\"algo\": \"pogm\", \"nb_run\": 1}}\n",
      "data_idx=1, monocoil, Identity, IdentityProx\n"
     ]
    },
    {
     "data": {
      "application/vnd.jupyter.widget-view+json": {
       "model_id": "1ae74c9b46574ace960c3f15ff101bd0",
       "version_major": 2,
       "version_minor": 0
      },
      "text/plain": [
       "Canvas(toolbar=Toolbar(toolitems=[('Home', 'Reset original view', 'home', 'home'), ('Back', 'Back to previous …"
      ]
     },
     "metadata": {},
     "output_type": "display_data"
    },
    {
     "name": "stdout",
     "output_type": "stream",
     "text": [
      "{\"data\": {\"data_idx\": 1, \"monocoil\": true}, \"problem\": {\"fourier_type\": 2, \"linear\": {\"class\": \"WaveletN\", \"nb_scale\": 4, \"wavelet_name\": \"sym8\"}, \"regularisation\": {\"class\": \"GroupLASSO\", \"weights\": 5e-07}}, \"solver\": {\"algo\": \"pogm\", \"nb_run\": 1}}\n",
      "{\"data\": {\"data_idx\": 1, \"monocoil\": true}, \"problem\": {\"fourier_type\": 2, \"linear\": {\"class\": \"WaveletN\", \"nb_scale\": 4, \"wavelet_name\": \"sym8\"}, \"regularisation\": {\"class\": \"GroupLASSO\", \"weights\": 5e-07}}, \"solver\": {\"algo\": \"vanilla\", \"eta\": 1.0, \"nb_run\": 1}}\n",
      "data_idx=1, monocoil, WaveletN, nb_scale=4, sym8\n"
     ]
    },
    {
     "data": {
      "application/vnd.jupyter.widget-view+json": {
       "model_id": "e030c5198bc04d1d841057360ff58a6f",
       "version_major": 2,
       "version_minor": 0
      },
      "text/plain": [
       "Canvas(toolbar=Toolbar(toolitems=[('Home', 'Reset original view', 'home', 'home'), ('Back', 'Back to previous …"
      ]
     },
     "metadata": {},
     "output_type": "display_data"
    },
    {
     "name": "stdout",
     "output_type": "stream",
     "text": [
      "{\"data\": {\"data_idx\": 1, \"monocoil\": true}, \"problem\": {\"fourier_type\": 2, \"linear\": {\"class\": \"WaveletN\", \"nb_scale\": 4, \"wavelet_name\": \"sym8\"}, \"regularisation\": {\"class\": \"GroupLASSO\", \"weights\": 5e-07}}, \"solver\": {\"algo\": \"pogm\", \"nb_run\": 1}}\n",
      "{\"data\": {\"data_idx\": 1, \"monocoil\": true}, \"problem\": {\"fourier_type\": 2, \"linear\": {\"class\": \"WaveletN\", \"nb_scale\": 4, \"wavelet_name\": \"sym8\"}, \"regularisation\": {\"class\": \"GroupLASSO\", \"weights\": 5e-07}}, \"solver\": {\"algo\": \"vanilla\", \"eta\": 1.0, \"nb_run\": 1}}\n",
      "data_idx=1, monocoil, WaveletN, nb_scale=4, sym8\n"
     ]
    }
   ],
   "source": [
    "print(monocoil)\n",
    "f= plot_metrics(monocoil.filter(problem__regularisation__class='IdentityProx'),('cost','cost_off'))\n",
    "f= plot_metrics(monocoil.filter(problem__regularisation__class__neq='IdentityProx'),('cost','cost_off'))\n",
    "f= plot_metrics(monocoil.filter(problem__regularisation__class__neq='IdentityProx'),('psnr','ssim'))"
   ]
  },
  {
   "cell_type": "code",
   "execution_count": null,
   "id": "c22b6f86-b6f6-4fee-b8d2-27ab9ab169ea",
   "metadata": {},
   "outputs": [],
   "source": []
  }
 ],
 "metadata": {
  "kernelspec": {
   "display_name": "Python 3",
   "language": "python",
   "name": "python3"
  },
  "language_info": {
   "codemirror_mode": {
    "name": "ipython",
    "version": 3
   },
   "file_extension": ".py",
   "mimetype": "text/x-python",
   "name": "python",
   "nbconvert_exporter": "python",
   "pygments_lexer": "ipython3",
   "version": "3.9.5"
  }
 },
 "nbformat": 4,
 "nbformat_minor": 5
}
