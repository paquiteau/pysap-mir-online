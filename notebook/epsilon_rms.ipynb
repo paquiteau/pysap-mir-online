{
 "cells": [
  {
   "cell_type": "code",
   "execution_count": 1,
   "id": "51fc1ea6-427d-46f2-955f-f58f9e56334e",
   "metadata": {},
   "outputs": [
    {
     "name": "stdout",
     "output_type": "stream",
     "text": [
      "/home/pac/gits/phd/mri-online\n"
     ]
    }
   ],
   "source": [
    "%cd /home/pac/gits/phd/mri-online/"
   ]
  },
  {
   "cell_type": "code",
   "execution_count": 2,
   "id": "608c23ee-bbee-462e-8602-7342f614de38",
   "metadata": {},
   "outputs": [
    {
     "name": "stderr",
     "output_type": "stream",
     "text": [
      "/home/pac/gits/phd/pysap-mri/mri/operators/fourier/non_cartesian.py:27: UserWarning: pynfft python package has not been found. If needed use the master release.\n",
      "  warnings.warn(\"pynfft python package has not been found. If needed use \"\n",
      "/home/pac/gits/phd/pysap-mri/mri/operators/fourier/non_cartesian.py:42: UserWarning: gpuNUFFT python package has not been found. If needed please check on how to install in README\n",
      "  warnings.warn(\"gpuNUFFT python package has not been found. If needed \"\n"
     ]
    }
   ],
   "source": [
    "import yaml\n",
    "import pprint\n",
    "import matplotlib.pyplot as plt\n",
    "import numpy as np\n",
    "from pprint import pprint\n",
    "import tikzplotlib as tikz\n",
    "from results.base import Experience, loader\n",
    "from results.plot import plot_metrics, plot_line, make_gif\n",
    "\n",
    "from project_utils import implot, imsave, load_data\n",
    "from online.metrics import psnr_ssos, ssim_ssos, ssos"
   ]
  },
  {
   "cell_type": "code",
   "execution_count": 3,
   "id": "10faf891-2b98-440b-a295-e510eb20784f",
   "metadata": {},
   "outputs": [],
   "source": [
    "%matplotlib widget\n",
    "plt.rcParams['figure.figsize'] = (12, 6)\n",
    "DATA_DIR = \"data/\"\n",
    "PLOT_DIR = \"/home/pac/gits/rep/report-mri-online/plot/\"\n",
    "\n",
    "TIKZ_DICT={'override_externals':True,\n",
    "           'axis_width':'\\\\mywidth',\n",
    "           'axis_height':'\\\\myheight',\n",
    "           'extra_axis_parameters':['y tick label style={font=\\\\footnotesize}','x tick label style={font=\\\\footnotesize}','ylabel style={font=\\\\footnotesize}','xlabel style={font=\\\\footnotesize}','legend style={font=\\\\footnotesize}',]}\n",
    "\n",
    "full_k, real_img, mask_loc, final_mask = load_data(DATA_DIR,1)\n",
    "square_mask= np.zeros(real_img.shape)\n",
    "real_img_size = real_img.shape\n",
    "img_size = [min(real_img.shape)]*2\n",
    "square_mask[real_img_size[0] // 2 - img_size[0] // 2:real_img_size[0] // 2 + img_size[0] // 2,\n",
    "            real_img_size[1] // 2 - img_size[1] // 2:real_img_size[1] // 2 + img_size[1] // 2] = 1\n",
    "\n",
    "default_weight=2e-6"
   ]
  },
  {
   "cell_type": "code",
   "execution_count": 4,
   "id": "c753b6d5-6f38-4d04-a503-fc0ae5ffb7b7",
   "metadata": {},
   "outputs": [],
   "source": [
    "with open('results/epsilon_tested.yml') as f:\n",
    "    tested_cfg = yaml.load(f, Loader=loader)\n",
    "Experience.save_folder = 'results/simuls/'\n",
    "Experience.objects.flush()\n",
    "for cfg in tested_cfg:\n",
    "    Experience.objects.add(Experience(**cfg))\n",
    "    \n",
    "\n",
    "multicoil= Experience.objects.filter(mode='and',data__monocoil=False)\n",
    "monocoil= Experience.objects.filter(mode='and',data__monocoil=True)"
   ]
  },
  {
   "cell_type": "code",
   "execution_count": 5,
   "id": "2755eedd-b652-4f1c-abbe-998615edc37e",
   "metadata": {},
   "outputs": [
    {
     "data": {
      "application/vnd.jupyter.widget-view+json": {
       "model_id": "afbc0b16a5d542a5b5c9fa120c33ad58",
       "version_major": 2,
       "version_minor": 0
      },
      "text/plain": [
       "Canvas(toolbar=Toolbar(toolitems=[('Home', 'Reset original view', 'home', 'home'), ('Back', 'Back to previous …"
      ]
     },
     "metadata": {},
     "output_type": "display_data"
    },
    {
     "name": "stdout",
     "output_type": "stream",
     "text": [
      "data_idx=1, not monocoil, fourier_type=2, Identity, IdentityProx, rmsprop, eta=1.00, gamma=0.99\n"
     ]
    },
    {
     "data": {
      "application/vnd.jupyter.widget-view+json": {
       "model_id": "f11be71ce4aa4587a3037790ffa8d846",
       "version_major": 2,
       "version_minor": 0
      },
      "text/plain": [
       "Canvas(toolbar=Toolbar(toolitems=[('Home', 'Reset original view', 'home', 'home'), ('Back', 'Back to previous …"
      ]
     },
     "metadata": {},
     "output_type": "display_data"
    },
    {
     "name": "stdout",
     "output_type": "stream",
     "text": [
      "data_idx=1, not monocoil, fourier_type=2, Identity, IdentityProx, rmsprop, eta=1.00, gamma=0.99\n"
     ]
    }
   ],
   "source": [
    "f= plot_metrics(multicoil.filter(problem__regularisation__class='IdentityProx'),('cost','cost_off'))\n",
    "f= plot_metrics(multicoil.filter(problem__regularisation__class='IdentityProx'),('psnr','ssim'),log=False)"
   ]
  },
  {
   "cell_type": "code",
   "execution_count": 6,
   "id": "007e66e3-408f-49a7-98ec-068cd8b35a02",
   "metadata": {},
   "outputs": [
    {
     "data": {
      "application/vnd.jupyter.widget-view+json": {
       "model_id": "593df6d49871469987bd4ba16c4ff5a9",
       "version_major": 2,
       "version_minor": 0
      },
      "text/plain": [
       "Canvas(toolbar=Toolbar(toolitems=[('Home', 'Reset original view', 'home', 'home'), ('Back', 'Back to previous …"
      ]
     },
     "metadata": {},
     "output_type": "display_data"
    },
    {
     "name": "stdout",
     "output_type": "stream",
     "text": [
      "data_idx=1, not monocoil, fourier_type=2, WaveletN, nb_scale=4, sym8, GroupLASSO, rmsprop, eta=1.00, gamma=0.99\n"
     ]
    },
    {
     "data": {
      "application/vnd.jupyter.widget-view+json": {
       "model_id": "22ac3effd82b4becae7ceba3440b6c60",
       "version_major": 2,
       "version_minor": 0
      },
      "text/plain": [
       "Canvas(toolbar=Toolbar(toolitems=[('Home', 'Reset original view', 'home', 'home'), ('Back', 'Back to previous …"
      ]
     },
     "metadata": {},
     "output_type": "display_data"
    },
    {
     "name": "stdout",
     "output_type": "stream",
     "text": [
      "data_idx=1, not monocoil, fourier_type=2, WaveletN, nb_scale=4, sym8, GroupLASSO, rmsprop, eta=1.00, gamma=0.99\n"
     ]
    }
   ],
   "source": [
    "\n",
    "f= plot_metrics(multicoil.filter(problem__regularisation__class__neq='IdentityProx'),('cost','cost_off'),ignore_keys=('nb_run',))\n",
    "f= plot_metrics(multicoil.filter(problem__regularisation__class__neq='IdentityProx'),('psnr','ssim'),ignore_keys=('nb_run',),log=False)"
   ]
  },
  {
   "cell_type": "code",
   "execution_count": 7,
   "id": "e2e31e94-c529-493f-9556-e8e1ad0f1e8a",
   "metadata": {},
   "outputs": [],
   "source": [
    "# Monocoil"
   ]
  },
  {
   "cell_type": "code",
   "execution_count": 8,
   "id": "8e0c8852-ceda-4f00-853f-f7f07bafb965",
   "metadata": {},
   "outputs": [
    {
     "data": {
      "application/vnd.jupyter.widget-view+json": {
       "model_id": "e78f2bb75f694c228ad282b03bd9afcc",
       "version_major": 2,
       "version_minor": 0
      },
      "text/plain": [
       "Canvas(toolbar=Toolbar(toolitems=[('Home', 'Reset original view', 'home', 'home'), ('Back', 'Back to previous …"
      ]
     },
     "metadata": {},
     "output_type": "display_data"
    },
    {
     "name": "stdout",
     "output_type": "stream",
     "text": [
      "data_idx=1, monocoil, fourier_type=2, Identity, IdentityProx, rmsprop, eta=1.00, gamma=0.99\n"
     ]
    },
    {
     "data": {
      "application/vnd.jupyter.widget-view+json": {
       "model_id": "bf3d9a5cb6a04b8d9bb896de7fdc3b3e",
       "version_major": 2,
       "version_minor": 0
      },
      "text/plain": [
       "Canvas(toolbar=Toolbar(toolitems=[('Home', 'Reset original view', 'home', 'home'), ('Back', 'Back to previous …"
      ]
     },
     "metadata": {},
     "output_type": "display_data"
    },
    {
     "name": "stdout",
     "output_type": "stream",
     "text": [
      "data_idx=1, monocoil, fourier_type=2, Identity, IdentityProx, rmsprop, eta=1.00, gamma=0.99\n"
     ]
    },
    {
     "data": {
      "application/vnd.jupyter.widget-view+json": {
       "model_id": "3516afb974404d369713373d610fe24a",
       "version_major": 2,
       "version_minor": 0
      },
      "text/plain": [
       "Canvas(toolbar=Toolbar(toolitems=[('Home', 'Reset original view', 'home', 'home'), ('Back', 'Back to previous …"
      ]
     },
     "metadata": {},
     "output_type": "display_data"
    },
    {
     "name": "stdout",
     "output_type": "stream",
     "text": [
      "data_idx=1, monocoil, fourier_type=2, WaveletN, nb_scale=4, sym8, GroupLASSO, rmsprop, eta=1.00, gamma=0.99\n"
     ]
    },
    {
     "data": {
      "application/vnd.jupyter.widget-view+json": {
       "model_id": "2886b1ad8bc4411bb40c4e3775088b68",
       "version_major": 2,
       "version_minor": 0
      },
      "text/plain": [
       "Canvas(toolbar=Toolbar(toolitems=[('Home', 'Reset original view', 'home', 'home'), ('Back', 'Back to previous …"
      ]
     },
     "metadata": {},
     "output_type": "display_data"
    },
    {
     "name": "stdout",
     "output_type": "stream",
     "text": [
      "data_idx=1, monocoil, fourier_type=2, WaveletN, nb_scale=4, sym8, GroupLASSO, rmsprop, eta=1.00, gamma=0.99\n"
     ]
    }
   ],
   "source": [
    "f= plot_metrics(monocoil.filter(problem__regularisation__class='IdentityProx',results__psnr__max__ge=20),('cost','cost_off'))\n",
    "f= plot_metrics(monocoil.filter(problem__regularisation__class='IdentityProx',results__psnr__max__ge=20),('psnr','ssim'),log=False)\n",
    "f= plot_metrics(monocoil.filter(problem__regularisation__class__neq='IdentityProx',results__psnr__max__ge=20),('cost','cost_off'))\n",
    "f= plot_metrics(monocoil.filter(problem__regularisation__class__neq='IdentityProx',results__psnr__max__ge=20),('psnr','ssim'),log=False)"
   ]
  },
  {
   "cell_type": "code",
   "execution_count": null,
   "id": "c22b6f86-b6f6-4fee-b8d2-27ab9ab169ea",
   "metadata": {},
   "outputs": [],
   "source": []
  }
 ],
 "metadata": {
  "kernelspec": {
   "display_name": "Python 3",
   "language": "python",
   "name": "python3"
  },
  "language_info": {
   "codemirror_mode": {
    "name": "ipython",
    "version": 3
   },
   "file_extension": ".py",
   "mimetype": "text/x-python",
   "name": "python",
   "nbconvert_exporter": "python",
   "pygments_lexer": "ipython3",
   "version": "3.9.5"
  }
 },
 "nbformat": 4,
 "nbformat_minor": 5
}
