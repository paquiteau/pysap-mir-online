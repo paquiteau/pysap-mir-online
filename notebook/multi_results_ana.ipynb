{
 "cells": [
  {
   "cell_type": "code",
   "execution_count": 1,
   "metadata": {},
   "outputs": [
    {
     "name": "stdout",
     "output_type": "stream",
     "text": [
      "/home/pac/gits/phd/mri-online\n"
     ]
    }
   ],
   "source": [
    "%cd /home/pac/gits/phd/mri-online/"
   ]
  },
  {
   "cell_type": "code",
   "execution_count": 2,
   "metadata": {},
   "outputs": [
    {
     "name": "stderr",
     "output_type": "stream",
     "text": [
      "/home/pac/gits/phd/pysap-mri/mri/operators/fourier/non_cartesian.py:27: UserWarning: pynfft python package has not been found. If needed use the master release.\n",
      "  warnings.warn(\"pynfft python package has not been found. If needed use \"\n",
      "/home/pac/gits/phd/pysap-mri/mri/operators/fourier/non_cartesian.py:42: UserWarning: gpuNUFFT python package has not been found. If needed please check on how to install in README\n",
      "  warnings.warn(\"gpuNUFFT python package has not been found. If needed \"\n"
     ]
    }
   ],
   "source": [
    "import yaml\n",
    "import pprint\n",
    "import matplotlib.pyplot as plt\n",
    "import numpy as np\n",
    "from pprint import pprint\n",
    "import tikzplotlib as tikz\n",
    "from results.base import Experience, loader\n",
    "from results.plot import plot_metrics, plot_line, make_gif\n",
    "\n",
    "from project_utils import implot, imsave, load_data\n",
    "from online.metrics import psnr_ssos, ssim_ssos, ssos"
   ]
  },
  {
   "cell_type": "code",
   "execution_count": 3,
   "metadata": {},
   "outputs": [],
   "source": [
    "%matplotlib widget\n",
    "plt.rcParams['figure.figsize'] = (12, 6)\n",
    "DATA_DIR = \"data/\"\n",
    "PLOT_DIR = \"/home/pac/gits/rep/report-mri-online/plot/\"\n",
    "\n",
    "TIKZ_DICT={'override_externals':True,\n",
    "           'axis_width':'\\\\mywidth',\n",
    "           'axis_height':'\\\\myheight',\n",
    "           'extra_axis_parameters':['y tick label style={font=\\\\footnotesize}','x tick label style={font=\\\\footnotesize}','ylabel style={font=\\\\footnotesize}','xlabel style={font=\\\\footnotesize}','legend style={font=\\\\footnotesize}',]}\n",
    "\n",
    "full_k, real_img, mask_loc, final_mask = load_data(DATA_DIR,1)\n",
    "square_mask= np.zeros(real_img.shape)\n",
    "real_img_size = real_img.shape\n",
    "img_size = [min(real_img.shape)]*2\n",
    "square_mask[real_img_size[0] // 2 - img_size[0] // 2:real_img_size[0] // 2 + img_size[0] // 2,\n",
    "            real_img_size[1] // 2 - img_size[1] // 2:real_img_size[1] // 2 + img_size[1] // 2] = 1\n",
    "\n",
    "default_weight=2e-6"
   ]
  },
  {
   "cell_type": "code",
   "execution_count": 4,
   "metadata": {
    "pycharm": {
     "name": "#%%\n"
    }
   },
   "outputs": [],
   "source": [
    "with open('results/tested_config.yml') as f:\n",
    "    tested_cfg = yaml.load(f, Loader=loader)\n",
    "Experience.save_folder = 'results/simuls/'\n",
    "Experience.objects.flush()\n",
    "for cfg in tested_cfg:\n",
    "    Experience.objects.add(Experience(**cfg))\n",
    "    \n",
    "    \n",
    "multicoil= Experience.objects.filter(mode='and',data__monocoil=False)"
   ]
  },
  {
   "cell_type": "markdown",
   "metadata": {},
   "source": [
    "## Regularisation \n",
    "### Forward-Backward"
   ]
  },
  {
   "cell_type": "code",
   "execution_count": 5,
   "metadata": {},
   "outputs": [
    {
     "name": "stdout",
     "output_type": "stream",
     "text": [
      "<class 'experiences.set.ExperienceSet'>\n"
     ]
    },
    {
     "ename": "KeyError",
     "evalue": "'pop from an empty set'",
     "output_type": "error",
     "traceback": [
      "\u001b[0;31m---------------------------------------------------------------------------\u001b[0m",
      "\u001b[0;31mKeyError\u001b[0m                                  Traceback (most recent call last)",
      "\u001b[0;32m<ipython-input-5-73747c20fde7>\u001b[0m in \u001b[0;36m<module>\u001b[0;34m\u001b[0m\n\u001b[1;32m      7\u001b[0m \u001b[0mprint\u001b[0m\u001b[0;34m(\u001b[0m\u001b[0mtype\u001b[0m\u001b[0;34m(\u001b[0m\u001b[0mdefault_case\u001b[0m\u001b[0;34m)\u001b[0m\u001b[0;34m)\u001b[0m\u001b[0;34m\u001b[0m\u001b[0;34m\u001b[0m\u001b[0m\n\u001b[1;32m      8\u001b[0m \u001b[0;34m\u001b[0m\u001b[0m\n\u001b[0;32m----> 9\u001b[0;31m \u001b[0moff\u001b[0m \u001b[0;34m=\u001b[0m  \u001b[0mdefault_case\u001b[0m\u001b[0;34m.\u001b[0m\u001b[0mpop\u001b[0m\u001b[0;34m(\u001b[0m\u001b[0;34m)\u001b[0m\u001b[0;34m\u001b[0m\u001b[0;34m\u001b[0m\u001b[0m\n\u001b[0m\u001b[1;32m     10\u001b[0m \u001b[0mimg\u001b[0m \u001b[0;34m=\u001b[0m \u001b[0mssos\u001b[0m\u001b[0;34m(\u001b[0m\u001b[0moff\u001b[0m\u001b[0;34m.\u001b[0m\u001b[0mxf\u001b[0m\u001b[0;34m[\u001b[0m\u001b[0;34m-\u001b[0m\u001b[0;36m1\u001b[0m\u001b[0;34m]\u001b[0m\u001b[0;34m)\u001b[0m\u001b[0;34m\u001b[0m\u001b[0;34m\u001b[0m\u001b[0m\n\u001b[1;32m     11\u001b[0m \u001b[0mimplot\u001b[0m\u001b[0;34m(\u001b[0m\u001b[0mimg\u001b[0m\u001b[0;34m,\u001b[0m  \u001b[0mmask\u001b[0m\u001b[0;34m=\u001b[0m\u001b[0msquare_mask\u001b[0m\u001b[0;34m,\u001b[0m \u001b[0mtitle\u001b[0m\u001b[0;34m=\u001b[0m\u001b[0;34mf'psnr={psnr_ssos(img,real_img, mask=square_mask):.4f}dB ssim={ssim_ssos(img,real_img, mask=square_mask):.2f}'\u001b[0m\u001b[0;34m)\u001b[0m\u001b[0;34m;\u001b[0m\u001b[0;34m\u001b[0m\u001b[0;34m\u001b[0m\u001b[0m\n",
      "\u001b[0;32m~/gits/phd/mri-online/experiences/set.py\u001b[0m in \u001b[0;36mpop\u001b[0;34m(self)\u001b[0m\n\u001b[1;32m    129\u001b[0m \u001b[0;34m\u001b[0m\u001b[0m\n\u001b[1;32m    130\u001b[0m     \u001b[0;32mdef\u001b[0m \u001b[0mpop\u001b[0m\u001b[0;34m(\u001b[0m\u001b[0mself\u001b[0m\u001b[0;34m)\u001b[0m\u001b[0;34m:\u001b[0m\u001b[0;34m\u001b[0m\u001b[0;34m\u001b[0m\u001b[0m\n\u001b[0;32m--> 131\u001b[0;31m         \u001b[0;32mreturn\u001b[0m \u001b[0mself\u001b[0m\u001b[0;34m.\u001b[0m\u001b[0m_set\u001b[0m\u001b[0;34m.\u001b[0m\u001b[0mpop\u001b[0m\u001b[0;34m(\u001b[0m\u001b[0;34m)\u001b[0m\u001b[0;34m\u001b[0m\u001b[0;34m\u001b[0m\u001b[0m\n\u001b[0m\u001b[1;32m    132\u001b[0m \u001b[0;34m\u001b[0m\u001b[0m\n\u001b[1;32m    133\u001b[0m     \u001b[0;32mdef\u001b[0m \u001b[0mget_discriminant_param\u001b[0m\u001b[0;34m(\u001b[0m\u001b[0mself\u001b[0m\u001b[0;34m,\u001b[0m \u001b[0mdisc\u001b[0m\u001b[0;34m=\u001b[0m\u001b[0;32mTrue\u001b[0m\u001b[0;34m)\u001b[0m\u001b[0;34m:\u001b[0m\u001b[0;34m\u001b[0m\u001b[0;34m\u001b[0m\u001b[0m\n",
      "\u001b[0;31mKeyError\u001b[0m: 'pop from an empty set'"
     ]
    }
   ],
   "source": [
    "default_case = multicoil.filter(mode='and',\n",
    "                       problem__fourier_type=0,\n",
    "                       problem__regularisation__class='LASSO',\n",
    "                       problem__regularisation__weights=default_weight,\n",
    "                       solver__algo__in=['vanilla'],\n",
    "                       solver__reg_factor=1)\n",
    "print(type(default_case))\n",
    "                                       \n",
    "off =  default_case.pop()                               \n",
    "img = ssos(off.xf[-1])\n",
    "implot(img,  mask=square_mask, title=f'psnr={psnr_ssos(img,real_img, mask=square_mask):.4f}dB ssim={ssim_ssos(img,real_img, mask=square_mask):.2f}');\n",
    "plt.figure()\n",
    "plt.plot(real_img[320],label='ref')\n",
    "plt.plot(img[320],label='offline')\n",
    "\n",
    "imsave(img, PLOT_DIR +'offline_vanilla.png',mask=square_mask)\n",
    "imsave(real_img, PLOT_DIR +'ground_truth_square.png',mask=square_mask)"
   ]
  },
  {
   "cell_type": "code",
   "execution_count": null,
   "metadata": {},
   "outputs": [],
   "source": [
    "offline = multicoil.filter(mode='and', problem__fourier_type=0, problem__regularisation__class='GroupLASSO', solver__algo='condatvu',solver__nb_run=1)\n",
    "\n",
    "f = plot_metrics(offline, ('cost_off', 'cost'), [],default_offset=0,log=True)\n",
    "f = plot_metrics(offline, ('data_res_on','data_res_off','reg_res'), [],default_offset=0,log=True)\n",
    "\n",
    "f = plot_metrics(offline, ('psnr', 'ssim'), [], default_offset=0,log=False)"
   ]
  },
  {
   "cell_type": "code",
   "execution_count": null,
   "metadata": {},
   "outputs": [],
   "source": [
    "online1 =multicoil.filter(mode='and', problem__fourier_type=1,solver__nb_run=2,solver__algo__in=['condatvu','pogm','vanilla'],\n",
    "                                                            problem__regularisation__class__in=['LASSO'],\n",
    "                                                            problem__regularisation__weights=2e-6,)\n",
    "\n",
    "online2 =  multicoil.filter(mode='and', problem__fourier_type=2,solver__nb_run=2,solver__algo__in=['condatvu','pogm','vanilla'],\n",
    "                                                            problem__regularisation__class__in=['LASSO'],\n",
    "                                                            problem__regularisation__weights=2e-6,)\n",
    "online1 = online1.union(offline).union(online2)\n",
    "f = plot_metrics(online1, metrics=('cost_off', 'cost'),ignore_keys=['nb_run'], default_offset=80,log=True)\n",
    "tikz.save(PLOT_DIR+'cost_classical.tikz', **TIKZ_DICT)\n",
    "\n",
    "f = plot_metrics(online1, metrics=('psnr', 'ssim'), ignore_keys=['nb_run'], default_offset=80,log=False)\n",
    "tikz.save(PLOT_DIR+'metrics_classical.tikz', **TIKZ_DICT)\n"
   ]
  },
  {
   "cell_type": "code",
   "execution_count": null,
   "metadata": {},
   "outputs": [],
   "source": [
    "online1 = multicoil.filter(mode='and', problem__fourier_type__in=[1,2],\n",
    "                                    problem__regularisation__class__in=['LASSO','IdentityProx'],\n",
    "                                    problem__regularisation__weights=2e-6,\n",
    "                                    solver__algo='condatvu',\n",
    "                                    solver__nb_run=1)\n",
    "online1 = online1.union(offline)\n",
    "f = plot_metrics(online1, metrics=('cost_off', 'cost'), default_offset=0,log=True)\n",
    "f = plot_metrics(online1, metrics=('psnr', 'ssim'), default_offset=0,log=False)\n",
    "print(online1)"
   ]
  },
  {
   "cell_type": "code",
   "execution_count": null,
   "metadata": {},
   "outputs": [],
   "source": [
    "online1 = multicoil.filter(mode='and', problem__fourier_type__in=[1,2],\n",
    "                                    problem__regularisation__class__in=['LASSO','IdentityProx'],\n",
    "                                    problem__regularisation__weights=2e-6,\n",
    "                                    solver__algo__in=['vanilla','momentum'],\n",
    "                                    solver__reg_factor=1.,\n",
    "                                    solver__nb_run=1)\n",
    "f = plot_metrics(online1, metrics=('cost_off', 'cost'), default_offset=0,log=True)\n",
    "f = plot_metrics(online1, metrics=('psnr', 'ssim'), default_offset=0,log=False)\n",
    "tikz.save(PLOT_DIR+'metrics_momentum_multi.tikz', **TIKZ_DICT)\n"
   ]
  },
  {
   "cell_type": "code",
   "execution_count": null,
   "metadata": {},
   "outputs": [],
   "source": [
    "online1 = multicoil.filter(mode='and', problem__fourier_type__in=[1,2],\n",
    "                                    problem__regularisation__class='IdentityProx',\n",
    "                                    solver__algo__in=['vanilla','momentum'],\n",
    "                                    solver__reg_factor=1.,\n",
    "                                    solver__nb_run=1)\n",
    "f = plot_metrics(online1, metrics=('cost_off', 'cost'), default_offset=0,log=True)\n",
    "f = plot_metrics(online1, metrics=('psnr', 'ssim'), default_offset=0,log=False)\n",
    "tikz.save(PLOT_DIR+'metrics_momentum_identity_multi.tikz', **TIKZ_DICT)"
   ]
  },
  {
   "cell_type": "code",
   "execution_count": null,
   "metadata": {},
   "outputs": [],
   "source": [
    "from array2gif import write_gif\n",
    "import numpy as np\n",
    "from IPython.display import Image\n",
    "\n",
    "\n",
    "def make_gif(exp, **kwargs):\n",
    "    \"\"\"\n",
    "    Create a gif from the estimates\n",
    "    \"\"\"\n",
    "    estimates = abs(np.array(map(ssos,exp.xf)))\n",
    "    estimates = np.repeat(estimates[:,np.newaxis,...],3,axis=1)\n",
    "    estimates *= (255.0/estimates.max())\n",
    "    print(estimates.shape)\n",
    "    filename = f\"{hash(exp)}.gif\"\n",
    "    write_gif(estimates, filename, **kwargs)"
   ]
  },
  {
   "cell_type": "code",
   "execution_count": null,
   "metadata": {},
   "outputs": [],
   "source": []
  }
 ],
 "metadata": {
  "kernelspec": {
   "display_name": "Python 3",
   "language": "python",
   "name": "python3"
  },
  "language_info": {
   "codemirror_mode": {
    "name": "ipython",
    "version": 3
   },
   "file_extension": ".py",
   "mimetype": "text/x-python",
   "name": "python",
   "nbconvert_exporter": "python",
   "pygments_lexer": "ipython3",
   "version": "3.9.5"
  }
 },
 "nbformat": 4,
 "nbformat_minor": 4
}
