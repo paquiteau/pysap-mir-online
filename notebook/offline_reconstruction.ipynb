{
 "cells": [
  {
   "cell_type": "markdown",
   "metadata": {},
   "source": [
    "# Offline reconstruction of pMRI data\n",
    "\n",
    "In this notebook we study offline reconstruction algorithm for pMRI data.\n",
    "Dependecies:\n",
    "- this repository\n",
    "- pysap-mri\n",
    "- pysap\n",
    "- modopt\n",
    "and their dependencies\n",
    "## Introduction\n",
    "\n",
    "Typically, MRI reconstruction is done entirely after the full acquisition of the k-space data (so-called offline reconstruction)\n",
    "During the acquisition sequence of MRI can be very long, and this dead time can be used to start the reconstruction.\n",
    "### Offline vs Online\n",
    "\n",
    "In the context of pMRI the problem is stated as follows for an (calibrationless) offline reconstruction\n",
    "$$\n",
    "\\hat{x} = \\arg\\min \\|\\Omega \\mathcal{F}x - y \\| + g(\\Psi x) \\tag{Problem 1}\n",
    "$$\n",
    "\n",
    "where:\n",
    "- $\\mathcal{F}$ is the fourier transform operator\n",
    "- $\\Omega$ is the sampling mask, representing the acquisition by the MRI\n",
    "- $y$ is the completly observed data in kspace.\n",
    "- $\\Psi$ is a sparsifying transform (typically a Wavelet transform)\n",
    "- $g$ is a proximable regularisation operator ($\\ell_1$, groupLasso, OWL...)\n",
    "\n",
    "Solving this problem is done by using an iterative algorithm relying on convex Optimisation and gradient descent (Condat-Vu, POGM, FISTA...)\n",
    "\n",
    "\n",
    "## Setup\n",
    "\n",
    "- This notebook relies on the python packages modopt, pysap, pysap-mri and their dependences.\n",
    "- As a toy model, let's consider a 2D pMRI acquisition with 16 channels where the k-space ( of size 640 x 320) is sampled along 80 columns."
   ]
  },
  {
   "cell_type": "code",
   "execution_count": 1,
   "metadata": {},
   "outputs": [
    {
     "name": "stdout",
     "output_type": "stream",
     "text": [
      "/home/pac/gits/phd/mri-online\n"
     ]
    }
   ],
   "source": [
    "%cd /home/pac/gits/phd/mri-online/\n",
    "%matplotlib widget"
   ]
  },
  {
   "cell_type": "code",
   "execution_count": 4,
   "metadata": {
    "collapsed": false,
    "jupyter": {
     "outputs_hidden": false
    },
    "pycharm": {
     "name": "#%%\n"
    }
   },
   "outputs": [],
   "source": [
    "import os\n",
    "import time\n",
    "import numpy as np\n",
    "import copy\n",
    "import matplotlib.pyplot as plt\n",
    "import scipy as sp\n",
    "from mri.operators import FFT, WaveletN, OWL\n",
    "from online.operators.proximity import LASSO\n",
    "from online.generators import KspaceGeneratorBase\n",
    "from online.reconstructors import OnlineReconstructor\n",
    "from modopt.opt.proximity import GroupLASSO, IdentityProx\n",
    "from modopt.opt.linear import Identity\n",
    "from mri.reconstructors import CalibrationlessReconstructor\n",
    "from mri.operators import GradAnalysis, GradSynthesis\n",
    "\n",
    "from project_utils import implot, load_data, create_cartesian_metrics\n",
    "from online.metrics import psnr_ssos, ssim_ssos, ssos"
   ]
  },
  {
   "cell_type": "code",
   "execution_count": 5,
   "metadata": {
    "collapsed": false,
    "jupyter": {
     "outputs_hidden": false
    },
    "pycharm": {
     "name": "#%%\n"
    }
   },
   "outputs": [],
   "source": [
    "DATA_DIR = \"data/\"\n",
    "RESULT_DIR = \"data/results/\"\n",
    "N_JOBS = 1\n",
    "results = dict()"
   ]
  },
  {
   "cell_type": "code",
   "execution_count": 6,
   "metadata": {
    "collapsed": false,
    "jupyter": {
     "outputs_hidden": false
    },
    "pycharm": {
     "name": "#%%\n"
    }
   },
   "outputs": [
    {
     "data": {
      "application/vnd.jupyter.widget-view+json": {
       "model_id": "eee5dc9209bc4a6ebf230dfa288300d2",
       "version_major": 2,
       "version_minor": 0
      },
      "text/plain": [
       "Canvas(toolbar=Toolbar(toolitems=[('Home', 'Reset original view', 'home', 'home'), ('Back', 'Back to previous …"
      ]
     },
     "metadata": {},
     "output_type": "display_data"
    },
    {
     "data": {
      "application/vnd.jupyter.widget-view+json": {
       "model_id": "a53fce85dadf43368770f0f0a983ced9",
       "version_major": 2,
       "version_minor": 0
      },
      "text/plain": [
       "Canvas(toolbar=Toolbar(toolitems=[('Home', 'Reset original view', 'home', 'home'), ('Back', 'Back to previous …"
      ]
     },
     "metadata": {},
     "output_type": "display_data"
    },
    {
     "name": "stdout",
     "output_type": "stream",
     "text": [
      "16 (640, 320)\n"
     ]
    }
   ],
   "source": [
    "full_k, real_img, mask_loc, final_mask = load_data(DATA_DIR,2, monocoil=False,use_ref_kspace=True)\n",
    "# use mono-coil data\n",
    "# full_k = sp.fft.fftshift(sp.fft.fft2(real_img,norm=\"ortho\"))\n",
    "final_k = full_k * final_mask\n",
    "\n",
    "real_img = ssos(sp.fft.ifftshift(sp.fft.ifft2(full_k,norm=\"ortho\")))\n",
    "implot(real_img, \"reference image\",colorbar=True)\n",
    "if full_k.ndim == 2:\n",
    "    implot(np.sqrt(np.abs(full_k)), \"full kspace : first coil\")\n",
    "implot(final_mask, \"sampling mask\")\n",
    "real_img_size = real_img.shape\n",
    "square_mask= np.zeros(real_img.shape)\n",
    "img_size = [min(real_img.shape)]*2\n",
    "square_mask[real_img_size[0] // 2 - img_size[0] // 2:real_img_size[0] // 2 + img_size[0] // 2,\n",
    "            real_img_size[1] // 2 - img_size[1] // 2:real_img_size[1] // 2 + img_size[1] // 2] = 1\n",
    "\n",
    "K_DIM = final_mask.shape\n",
    "N_COILS = 1 if full_k.ndim == 2 else full_k.shape[0]\n",
    "print(N_COILS, K_DIM)"
   ]
  },
  {
   "cell_type": "markdown",
   "metadata": {
    "pycharm": {
     "name": "#%% md\n"
    }
   },
   "source": [
    "## naive direct inversion"
   ]
  },
  {
   "cell_type": "code",
   "execution_count": 7,
   "metadata": {
    "collapsed": false,
    "jupyter": {
     "outputs_hidden": false
    },
    "pycharm": {
     "name": "#%%\n"
    }
   },
   "outputs": [
    {
     "data": {
      "application/vnd.jupyter.widget-view+json": {
       "model_id": "823a8186303c4805be3805c50ede27e4",
       "version_major": 2,
       "version_minor": 0
      },
      "text/plain": [
       "Canvas(toolbar=Toolbar(toolitems=[('Home', 'Reset original view', 'home', 'home'), ('Back', 'Back to previous …"
      ]
     },
     "metadata": {},
     "output_type": "display_data"
    },
    {
     "data": {
      "application/vnd.jupyter.widget-view+json": {
       "model_id": "f59e23bf1fcf4776b192806cf2f4ab3a",
       "version_major": 2,
       "version_minor": 0
      },
      "text/plain": [
       "Canvas(toolbar=Toolbar(toolitems=[('Home', 'Reset original view', 'home', 'home'), ('Back', 'Back to previous …"
      ]
     },
     "metadata": {},
     "output_type": "display_data"
    },
    {
     "data": {
      "text/plain": [
       "<matplotlib.legend.Legend at 0x7f5b11ece7c0>"
      ]
     },
     "execution_count": 7,
     "metadata": {},
     "output_type": "execute_result"
    }
   ],
   "source": [
    "dirrec= sp.fft.ifftshift(sp.fft.ifft2(final_k,norm=\"ortho\"))\n",
    "implot(ssos(dirrec), title=f'PSNR={psnr_ssos(dirrec,real_img,mask=square_mask):.2f},  SSIM={ssim_ssos(dirrec,real_img,mask=square_mask):.3f}',mask=square_mask)\n",
    "\n",
    "plt.figure()\n",
    "plt.plot(abs(real_img[320]),label='ref')\n",
    "plt.plot(ssos(dirrec)[320],label='ifft')\n",
    "plt.legend()\n"
   ]
  },
  {
   "cell_type": "markdown",
   "metadata": {
    "pycharm": {
     "name": "#%% md\n"
    }
   },
   "source": [
    "## Condat + GL"
   ]
  },
  {
   "cell_type": "code",
   "execution_count": 6,
   "metadata": {
    "collapsed": false,
    "jupyter": {
     "outputs_hidden": false
    },
    "pycharm": {
     "name": "#%%\n"
    }
   },
   "outputs": [
    {
     "name": "stderr",
     "output_type": "stream",
     "text": [
      "WARNING: Making input data immutable.\n",
      "WARNING: Making input data immutable.\n",
      "WARNING: <class 'mri.operators.linear.wavelet.WaveletN'> does not inherit an operator parent.\n",
      "100% (200 of 200) |######################| Elapsed Time: 0:03:40 Time:  0:03:40\n"
     ]
    }
   ],
   "source": [
    "fourier_op = FFT(mask=final_mask,\n",
    "                 shape=K_DIM,\n",
    "                 n_coils=N_COILS,\n",
    "                 n_jobs=N_JOBS)\n",
    "\n",
    "# Wavelets coefficients for each coils\n",
    "linear_op = WaveletN(\"sym8\", nb_scale=4, n_coils=N_COILS, n_jobs=-1)\n",
    "# initialisation of wavelet transform\n",
    "linear_op.op(np.zeros_like(final_k))\n",
    "\n",
    "# Regularizer definition\n",
    "if N_COILS ==1:\n",
    "    GL_op = LASSO(weights=1e-6)\n",
    "else:\n",
    "    GL_op = GroupLASSO(weights=2e-6)\n",
    "    \n",
    "OWL_op = OWL(alpha=1e-05,\n",
    "             beta=1e-12,\n",
    "             bands_shape=linear_op.coeffs_shape,\n",
    "             mode='band_based',\n",
    "             n_coils=N_COILS,\n",
    "             n_jobs=N_JOBS)\n",
    "\n",
    "\n",
    "prox_op = GL_op\n",
    "cost_op_kwargs={'cost_interval':1}\n",
    "solver = CalibrationlessReconstructor(\n",
    "        fourier_op,\n",
    "        linear_op=linear_op,\n",
    "        regularizer_op=prox_op,\n",
    "        gradient_formulation=\"analysis\",\n",
    "        verbose=0)\n",
    "\n",
    "metrics = {'psnr': {'metric': lambda test, ref, mask: psnr_ssos(test,ref),\n",
    "                        'mapping': {'x_new': 'test'},\n",
    "                        'early_stopping': False,\n",
    "                        'cst_kwargs': {'ref': real_img,\n",
    "                                       'mask': square_mask},\n",
    "                        },\n",
    "          'ssim': {'metric': lambda test, ref,mask: ssim_ssos(test,ref),\n",
    "                        'mapping': {'x_new': 'test'},\n",
    "                        'early_stopping': False,\n",
    "                        'cst_kwargs': {'ref': real_img,\n",
    "                                       'mask': square_mask},\n",
    "                        }}\n",
    "xf_condat, cost, metric_results_condatvu= solver.reconstruct(final_k,\n",
    "                                                             optimization_alg='condatvu',\n",
    "                                                             metrics=metrics,\n",
    "                                                             metric_call_period=1,num_iterations=200\n",
    "                                                        )\n",
    "\n",
    "\n",
    "metric_results_condatvu['cost'] = {'index':np.arange(0,len(cost),cost_op_kwargs['cost_interval']),\n",
    "                          'values':np.array(cost)}\n"
   ]
  },
  {
   "cell_type": "code",
   "execution_count": 7,
   "metadata": {
    "collapsed": false,
    "jupyter": {
     "outputs_hidden": false
    },
    "pycharm": {
     "name": "#%%\n"
    }
   },
   "outputs": [
    {
     "data": {
      "application/vnd.jupyter.widget-view+json": {
       "model_id": "bfd204ab4bd3401e8a53b51d73453f0c",
       "version_major": 2,
       "version_minor": 0
      },
      "text/plain": [
       "Canvas(toolbar=Toolbar(toolitems=[('Home', 'Reset original view', 'home', 'home'), ('Back', 'Back to previous …"
      ]
     },
     "metadata": {},
     "output_type": "display_data"
    },
    {
     "data": {
      "application/vnd.jupyter.widget-view+json": {
       "model_id": "568f9abd19ce4b30ae18fba0968835bb",
       "version_major": 2,
       "version_minor": 0
      },
      "text/plain": [
       "Canvas(toolbar=Toolbar(toolitems=[('Home', 'Reset original view', 'home', 'home'), ('Back', 'Back to previous …"
      ]
     },
     "metadata": {},
     "output_type": "display_data"
    },
    {
     "data": {
      "application/vnd.jupyter.widget-view+json": {
       "model_id": "6d5a6dd903ef46bcb2018f9c34bb432e",
       "version_major": 2,
       "version_minor": 0
      },
      "text/plain": [
       "Canvas(toolbar=Toolbar(toolitems=[('Home', 'Reset original view', 'home', 'home'), ('Back', 'Back to previous …"
      ]
     },
     "metadata": {},
     "output_type": "display_data"
    },
    {
     "data": {
      "application/vnd.jupyter.widget-view+json": {
       "model_id": "3e6dc5fce81b4156a1d09c70c07a2e27",
       "version_major": 2,
       "version_minor": 0
      },
      "text/plain": [
       "Canvas(toolbar=Toolbar(toolitems=[('Home', 'Reset original view', 'home', 'home'), ('Back', 'Back to previous …"
      ]
     },
     "metadata": {},
     "output_type": "display_data"
    },
    {
     "data": {
      "text/plain": [
       "<matplotlib.legend.Legend at 0x7f1660bd8b80>"
      ]
     },
     "execution_count": 7,
     "metadata": {},
     "output_type": "execute_result"
    }
   ],
   "source": [
    "psnr = psnr_ssos(xf_condat,real_img,mask=square_mask)\n",
    "ssim = ssim_ssos(xf_condat,real_img,mask=square_mask)\n",
    "\n",
    "implot(ssos(xf_condat),title=f\"PSNR = {psnr:.2f} dB, ssim={ssim:.3f}\",mask=square_mask, colorbar=True)\n",
    "fig,ax = plt.subplots()\n",
    "ax.get_yaxis().get_major_formatter().set_useOffset(False)\n",
    "ax.plot(metric_results_condatvu['psnr']['index'],metric_results_condatvu['psnr']['values'])\n",
    "plt.figure()\n",
    "plt.plot(metric_results_condatvu['ssim']['index'],metric_results_condatvu['ssim']['values'])\n",
    "\n",
    "plt.figure()\n",
    "plt.plot(abs(real_img[320]),label='ref')\n",
    "plt.plot(ssos(xf_condat)[320],label='xf')\n",
    "plt.legend()"
   ]
  },
  {
   "cell_type": "markdown",
   "metadata": {},
   "source": [
    "### POGM + GL\n"
   ]
  },
  {
   "cell_type": "code",
   "execution_count": 8,
   "metadata": {
    "collapsed": false,
    "jupyter": {
     "outputs_hidden": false
    },
    "pycharm": {
     "name": "#%%\n"
    }
   },
   "outputs": [
    {
     "name": "stderr",
     "output_type": "stream",
     "text": [
      "WARNING: Making input data immutable.\n",
      "100% (200 of 200) |######################| Elapsed Time: 0:04:23 Time:  0:04:23\n"
     ]
    }
   ],
   "source": [
    "prox_op=GL_op\n",
    "# The fourier Operator apply also the sampling mask.\n",
    "cost_op_kwargs={'cost_interval':1}\n",
    "solver2 = CalibrationlessReconstructor(\n",
    "        fourier_op,\n",
    "        linear_op=linear_op,\n",
    "        regularizer_op=prox_op,\n",
    "        gradient_formulation=\"synthesis\",\n",
    "        verbose=0)\n",
    "\n",
    "\n",
    "metrics = {'psnr': {'metric': lambda test, ref, mask: psnr_ssos(test,ref),\n",
    "                        'mapping': {'x_new': 'test'},\n",
    "                        'early_stopping': False,\n",
    "                        'cst_kwargs': {'ref': real_img,\n",
    "                                       'mask': square_mask},\n",
    "                        },\n",
    "          'ssim': {'metric': lambda test, ref,mask: ssim_ssos(test,ref),\n",
    "                        'mapping': {'x_new': 'test'},\n",
    "                        'early_stopping': False,\n",
    "                        'cst_kwargs': {'ref': real_img,\n",
    "                                       'mask': square_mask},\n",
    "                        }}\n",
    "xf_pogm, cost, metric_results_pogm = solver2.reconstruct(final_k, optimization_alg='pogm',metrics=metrics,\n",
    "                                                             metric_call_period=1,num_iterations=200)\n",
    "\n",
    "metric_results_pogm['cost'] = {'index':np.arange(0,len(cost),cost_op_kwargs['cost_interval']),\n",
    "                          'values':np.array(cost)}"
   ]
  },
  {
   "cell_type": "code",
   "execution_count": 9,
   "metadata": {
    "collapsed": false,
    "jupyter": {
     "outputs_hidden": false
    },
    "pycharm": {
     "name": "#%%\n"
    }
   },
   "outputs": [
    {
     "data": {
      "application/vnd.jupyter.widget-view+json": {
       "model_id": "42a98b8440184c0ba767c8c9abed0f79",
       "version_major": 2,
       "version_minor": 0
      },
      "text/plain": [
       "Canvas(toolbar=Toolbar(toolitems=[('Home', 'Reset original view', 'home', 'home'), ('Back', 'Back to previous …"
      ]
     },
     "metadata": {},
     "output_type": "display_data"
    },
    {
     "data": {
      "application/vnd.jupyter.widget-view+json": {
       "model_id": "3d1de1c82c554c73b765826f0b8dd479",
       "version_major": 2,
       "version_minor": 0
      },
      "text/plain": [
       "Canvas(toolbar=Toolbar(toolitems=[('Home', 'Reset original view', 'home', 'home'), ('Back', 'Back to previous …"
      ]
     },
     "metadata": {},
     "output_type": "display_data"
    },
    {
     "data": {
      "application/vnd.jupyter.widget-view+json": {
       "model_id": "8e7793f8f8e6472f86dbf415cf4596ae",
       "version_major": 2,
       "version_minor": 0
      },
      "text/plain": [
       "Canvas(toolbar=Toolbar(toolitems=[('Home', 'Reset original view', 'home', 'home'), ('Back', 'Back to previous …"
      ]
     },
     "metadata": {},
     "output_type": "display_data"
    },
    {
     "data": {
      "application/vnd.jupyter.widget-view+json": {
       "model_id": "169c421ec37247bdbd9891367191e2e4",
       "version_major": 2,
       "version_minor": 0
      },
      "text/plain": [
       "Canvas(toolbar=Toolbar(toolitems=[('Home', 'Reset original view', 'home', 'home'), ('Back', 'Back to previous …"
      ]
     },
     "metadata": {},
     "output_type": "display_data"
    },
    {
     "data": {
      "text/plain": [
       "<matplotlib.legend.Legend at 0x7f1660a40f40>"
      ]
     },
     "execution_count": 9,
     "metadata": {},
     "output_type": "execute_result"
    }
   ],
   "source": [
    "psnr = psnr_ssos(xf_pogm,real_img,mask=square_mask)\n",
    "ssim = ssim_ssos(xf_pogm,real_img,mask=square_mask)\n",
    "\n",
    "implot(ssos(xf_pogm),title=f\"PSNR = {psnr:.2f} dB, ssim={ssim:.3f}\",mask=square_mask, colorbar=True)\n",
    "fig,ax = plt.subplots()\n",
    "ax.get_yaxis().get_major_formatter().set_useOffset(False)\n",
    "ax.plot(metric_results_pogm['psnr']['index'],metric_results_pogm['psnr']['values'])\n",
    "plt.figure()\n",
    "plt.plot(metric_results_pogm['ssim']['index'],metric_results_pogm['ssim']['values'])\n",
    "\n",
    "plt.figure()\n",
    "plt.plot(abs(real_img[320]),label='ref')\n",
    "plt.plot(abs(ssos(xf_pogm)[320]),label='xf')\n",
    "plt.legend()"
   ]
  },
  {
   "cell_type": "code",
   "execution_count": null,
   "metadata": {
    "collapsed": false,
    "jupyter": {
     "outputs_hidden": false
    },
    "pycharm": {
     "name": "#%%\n"
    }
   },
   "outputs": [],
   "source": []
  },
  {
   "cell_type": "code",
   "execution_count": 10,
   "metadata": {
    "collapsed": false,
    "jupyter": {
     "outputs_hidden": false
    },
    "pycharm": {
     "name": "#%%\n"
    }
   },
   "outputs": [
    {
     "name": "stderr",
     "output_type": "stream",
     "text": [
      "100%|██████████| 80/80 [01:31<00:00,  1.14s/it]\n"
     ]
    }
   ],
   "source": [
    "\n",
    "\n",
    "kspace_gen= KspaceGenerator(full_kspace=final_k, mask=final_mask,max_iter=80)\n",
    "full_k, real_img, mask_loc, final_mask = load_data(DATA_DIR, 2, monocoil=True)\n",
    "final_k = np.squeeze(full_k * final_mask[np.newaxis])\n",
    "\n",
    "K_DIM = kspace_gen.shape[-2:]\n",
    "N_COILS = kspace_gen.shape[0] if full_k.ndim == 3 else 1\n",
    "#line_fourier_op = ColumnFFT(shape=K_DIM, mask=final_mask, n_coils=N_COILS)\n",
    "\n",
    "if N_COILS ==1:\n",
    "    GL_op = LASSO(weights=2e-6)\n",
    "else:\n",
    "    GL_op = GroupLASSO(weights=2e-6/1000)\n",
    "    \n",
    "\n",
    "# The fourier Operator apply also the sampling mask.\n",
    "cost_op_kwargs={'cost_interval':1}\n",
    "online_pb = OnlineReconstructor(\n",
    "        fourier_op,\n",
    "        linear_op=Identity(),\n",
    "        regularizer_op=IdentityProx(),\n",
    "        opt='vanilla',\n",
    "        verbose=0)\n",
    "\n",
    "metrics_config = create_cartesian_metrics(online_pb, real_img, final_mask, final_k)\n",
    "\n",
    "results = online_pb.reconstruct(kspace_gen,\n",
    "                            eta=1.,\n",
    "                           **metrics_config)\n",
    "\n",
    "    "
   ]
  },
  {
   "cell_type": "code",
   "execution_count": 11,
   "metadata": {},
   "outputs": [],
   "source": [
    "def plot_metric(results, name, log=False, ax=None):\n",
    "    if ax == None:\n",
    "        ax = plt.gca()\n",
    "    if log:\n",
    "        plt.semilogy(results['metrics'][name]['index'], results['metrics'][name]['values'],label=name)\n",
    "    else:\n",
    "        plt.plot(results['metrics'][name]['index'], results['metrics'][name]['values'],label=name)\n"
   ]
  },
  {
   "cell_type": "code",
   "execution_count": 12,
   "metadata": {
    "collapsed": false,
    "jupyter": {
     "outputs_hidden": false
    },
    "pycharm": {
     "name": "#%%\n"
    }
   },
   "outputs": [],
   "source": [
    "x=ssos(results['x_final'])\n",
    "psnr = psnr_ssos(x,real_img, mask=square_mask)\n",
    "ssim = ssim_ssos(x, real_img, mask=square_mask)"
   ]
  },
  {
   "cell_type": "code",
   "execution_count": 13,
   "metadata": {},
   "outputs": [
    {
     "data": {
      "application/vnd.jupyter.widget-view+json": {
       "model_id": "02b53df6d3f74b988fd2dc57c121cde3",
       "version_major": 2,
       "version_minor": 0
      },
      "text/plain": [
       "Canvas(toolbar=Toolbar(toolitems=[('Home', 'Reset original view', 'home', 'home'), ('Back', 'Back to previous …"
      ]
     },
     "metadata": {},
     "output_type": "display_data"
    },
    {
     "data": {
      "application/vnd.jupyter.widget-view+json": {
       "model_id": "305eff6a61f74da6af033ab4cd48f9c8",
       "version_major": 2,
       "version_minor": 0
      },
      "text/plain": [
       "Canvas(toolbar=Toolbar(toolitems=[('Home', 'Reset original view', 'home', 'home'), ('Back', 'Back to previous …"
      ]
     },
     "metadata": {},
     "output_type": "display_data"
    },
    {
     "data": {
      "application/vnd.jupyter.widget-view+json": {
       "model_id": "3895eae541de443e80a5fd26be7b90c7",
       "version_major": 2,
       "version_minor": 0
      },
      "text/plain": [
       "Canvas(toolbar=Toolbar(toolitems=[('Home', 'Reset original view', 'home', 'home'), ('Back', 'Back to previous …"
      ]
     },
     "metadata": {},
     "output_type": "display_data"
    },
    {
     "data": {
      "application/vnd.jupyter.widget-view+json": {
       "model_id": "40b3b0a388c04a94a861235e35678444",
       "version_major": 2,
       "version_minor": 0
      },
      "text/plain": [
       "Canvas(toolbar=Toolbar(toolitems=[('Home', 'Reset original view', 'home', 'home'), ('Back', 'Back to previous …"
      ]
     },
     "metadata": {},
     "output_type": "display_data"
    },
    {
     "data": {
      "text/plain": [
       "<matplotlib.legend.Legend at 0x7f1660939a30>"
      ]
     },
     "execution_count": 13,
     "metadata": {},
     "output_type": "execute_result"
    }
   ],
   "source": [
    "plt.figure()\n",
    "plot_metric(results,'data_res_off',log=True)\n",
    "plot_metric(results,'data_res_on',log=True)\n",
    "plot_metric(results, 'reg_res',log=True)\n",
    "plt.legend()\n",
    "\n",
    "\n",
    "psnr = psnr_ssos(x,real_img,mask=square_mask)\n",
    "ssim = ssim_ssos(x,real_img,mask=square_mask)\n",
    "plt.figure()\n",
    "implot(ssos(x),title=f\"PSNR = {psnr:.2f} dB, ssim={ssim:.3f}\",mask=square_mask, colorbar=True);\n",
    "\n",
    "\n",
    "plt.figure()\n",
    "plt.plot(abs(real_img[320]),label='ref')\n",
    "plt.plot(abs(ssos(x)[320]),label='xf')\n",
    "plt.legend()"
   ]
  },
  {
   "cell_type": "code",
   "execution_count": null,
   "metadata": {},
   "outputs": [],
   "source": []
  },
  {
   "cell_type": "code",
   "execution_count": null,
   "metadata": {},
   "outputs": [],
   "source": []
  }
 ],
 "metadata": {
  "kernelspec": {
   "display_name": "Python 3",
   "language": "python",
   "name": "python3"
  },
  "language_info": {
   "codemirror_mode": {
    "name": "ipython",
    "version": 3
   },
   "file_extension": ".py",
   "mimetype": "text/x-python",
   "name": "python",
   "nbconvert_exporter": "python",
   "pygments_lexer": "ipython3",
   "version": "3.9.5"
  }
 },
 "nbformat": 4,
 "nbformat_minor": 4
}
