{
 "cells": [
  {
   "cell_type": "code",
   "execution_count": 1,
   "metadata": {},
   "outputs": [
    {
     "name": "stdout",
     "output_type": "stream",
     "text": [
      "/home/pac/gits/phd/mri-online\n"
     ]
    }
   ],
   "source": [
    "%cd ..\n",
    "%matplotlib widget"
   ]
  },
  {
   "cell_type": "code",
   "execution_count": 8,
   "metadata": {
    "pycharm": {
     "name": "#%%\n"
    }
   },
   "outputs": [],
   "source": [
    "import os\n",
    "import time\n",
    "import numpy as np\n",
    "import copy\n",
    "import matplotlib.pyplot as plt\n",
    "import scipy as sp\n",
    "from mri.operators import FFT,WaveletN, OWL\n",
    "from modopt.opt.proximity import GroupLASSO, IdentityProx\n",
    "from modopt.opt.linear import Identity\n",
    "from online.generators.column import Column2DKspaceGenerator,  DataOnlyKspaceGenerator\n",
    "from online.reconstructors import OnlineReconstructor\n",
    "from online.operators import ColumnFFT, LASSO\n",
    "from project_utils import implot, load_data, create_cartesian_metrics\n",
    "from online.metrics import ssos, psnr_ssos,ssim_ssos\n",
    "DATA_DIR = \"data/\"\n",
    "RESULT_DIR = \"data/results/\"\n",
    "N_JOBS = -1"
   ]
  },
  {
   "cell_type": "code",
   "execution_count": 9,
   "metadata": {
    "pycharm": {
     "name": "#%%\n"
    }
   },
   "outputs": [
    {
     "data": {
      "application/vnd.jupyter.widget-view+json": {
       "model_id": "35dc18935da948c2a7a62e91944f26b0",
       "version_major": 2,
       "version_minor": 0
      },
      "text/plain": [
       "Canvas(toolbar=Toolbar(toolitems=[('Home', 'Reset original view', 'home', 'home'), ('Back', 'Back to previous …"
      ]
     },
     "metadata": {},
     "output_type": "display_data"
    },
    {
     "data": {
      "application/vnd.jupyter.widget-view+json": {
       "model_id": "b190dd46432b4555af2144641f436b15",
       "version_major": 2,
       "version_minor": 0
      },
      "text/plain": [
       "Canvas(toolbar=Toolbar(toolitems=[('Home', 'Reset original view', 'home', 'home'), ('Back', 'Back to previous …"
      ]
     },
     "metadata": {},
     "output_type": "display_data"
    },
    {
     "data": {
      "application/vnd.jupyter.widget-view+json": {
       "model_id": "a1d228136cd14c5387472c3ce455504b",
       "version_major": 2,
       "version_minor": 0
      },
      "text/plain": [
       "Canvas(toolbar=Toolbar(toolitems=[('Home', 'Reset original view', 'home', 'home'), ('Back', 'Back to previous …"
      ]
     },
     "metadata": {},
     "output_type": "display_data"
    },
    {
     "name": "stdout",
     "output_type": "stream",
     "text": [
      "1 (640, 320)\n"
     ]
    }
   ],
   "source": [
    "full_k, real_img, mask_loc, final_mask = load_data(DATA_DIR,2, monocoil=True, use_ref_kspace=True)\n",
    "# use mono-coil data\n",
    "# full_k = sp.fft.fftshift(sp.fft.fft2(real_img,norm=\"ortho\"))\n",
    "final_k = full_k * final_mask\n",
    "\n",
    "implot(real_img, \"reference image\",colorbar=True)\n",
    "if full_k.ndim == 2:\n",
    "    implot(np.sqrt(np.abs(full_k)), \"full kspace : first coil\")\n",
    "implot(final_mask, \"sampling mask\")\n",
    "real_img_size = real_img.shape\n",
    "square_mask= np.zeros(real_img.shape)\n",
    "img_size = [min(real_img.shape)]*2\n",
    "square_mask[real_img_size[0] // 2 - img_size[0] // 2:real_img_size[0] // 2 + img_size[0] // 2,\n",
    "            real_img_size[1] // 2 - img_size[1] // 2:real_img_size[1] // 2 + img_size[1] // 2] = 1\n",
    "\n",
    "K_DIM = final_mask.shape\n",
    "N_COILS = 1 if full_k.ndim == 2 else full_k.shape[0]\n",
    "print(N_COILS, K_DIM)\n"
   ]
  },
  {
   "cell_type": "markdown",
   "metadata": {},
   "source": [
    "# Type I reconstruction\n",
    "## Monocoil"
   ]
  },
  {
   "cell_type": "code",
   "execution_count": 10,
   "metadata": {
    "pycharm": {
     "name": "#%%\n"
    }
   },
   "outputs": [
    {
     "name": "stdout",
     "output_type": "stream",
     "text": [
      "Making n_jobs = 1 for WaveletN as n_coils = 1\n"
     ]
    },
    {
     "name": "stderr",
     "output_type": "stream",
     "text": [
      "81it [00:05, 13.85it/s]                        \n"
     ]
    },
    {
     "data": {
      "application/vnd.jupyter.widget-view+json": {
       "model_id": "82217e1c810e40ae86078f5b5b560443",
       "version_major": 2,
       "version_minor": 0
      },
      "text/plain": [
       "Canvas(toolbar=Toolbar(toolitems=[('Home', 'Reset original view', 'home', 'home'), ('Back', 'Back to previous …"
      ]
     },
     "metadata": {},
     "output_type": "display_data"
    }
   ],
   "source": [
    "full_k, real_img, mask_loc, final_mask = load_data(DATA_DIR,2, monocoil=True,use_ref_kspace=True)\n",
    "final_k = np.squeeze(full_k * final_mask[np.newaxis,...])\n",
    "\n",
    "kspace_gen = Column2DKspaceGenerator(final_k, mask_cols=mask_loc)\n",
    "K_DIM = kspace_gen.shape[-2:]\n",
    "N_COILS = kspace_gen.shape[0] if full_k.ndim == 3 else 1\n",
    "# The fourier Operator apply also the sampling mask.\n",
    "fourier_op = FFT(shape=K_DIM,n_coils=N_COILS, mask=final_mask)\n",
    "# Wavelets coefficients for each coils\n",
    "linear_op = WaveletN(\"sym8\", nb_scale=4, n_coils=N_COILS, n_jobs=N_JOBS)\n",
    "# initialisation of wavelet transform\n",
    "linear_op.op(np.zeros_like(final_k))\n",
    "\n",
    "# Regularizer definition\n",
    "if N_COILS ==1:\n",
    "    GL_op = LASSO(weights=2e-6)\n",
    "else:\n",
    "    GL_op = GroupLASSO(weights=2e-6)\n",
    "\n",
    "OWL_op = OWL(alpha=1e-05,\n",
    "             beta=1e-12,\n",
    "             bands_shape=linear_op.coeffs_shape,\n",
    "             mode='band_based',\n",
    "             n_coils=N_COILS,\n",
    "             n_jobs=N_JOBS)\n",
    "cost_op_kwargs = {'cost_interval': 1}\n",
    "\n",
    "\n",
    "online_pb = OnlineReconstructor(fourier_op,\n",
    "#                                 Identity(),\n",
    "#                                 regularizer_op=IdentityProx(),\n",
    "                                linear_op,\n",
    "                                regularizer_op=GL_op,\n",
    "                                opt='fista',\n",
    "                                verbose=0)\n",
    "\n",
    "metrics_config = create_cartesian_metrics(online_pb, real_img, final_mask, final_k)\n",
    "\n",
    "results = online_pb.reconstruct(kspace_gen,\n",
    "                                eta=1.,\n",
    "                                #**metrics_config,\n",
    "                                )\n",
    "x=ssos(results['x_final'])\n",
    "psnr = psnr_ssos(x,real_img, mask=square_mask)\n",
    "ssim = ssim_ssos(x, real_img, mask=square_mask)\n",
    "implot(ssos(x),title=f\"PSNR = {psnr:.2f} dB, ssim={ssim:.3f}\",mask=square_mask, colorbar=True);"
   ]
  },
  {
   "cell_type": "code",
   "execution_count": 11,
   "metadata": {},
   "outputs": [],
   "source": [
    "def plot_metric(results, name, log=False, ax=None):\n",
    "    if ax == None:\n",
    "        ax = plt.gca()\n",
    "    if log:\n",
    "        plt.semilogy(results['metrics'][name]['index'], results['metrics'][name]['values'],label=name)\n",
    "    else:\n",
    "        plt.plot(results['metrics'][name]['index'], results['metrics'][name]['values'],label=name)\n",
    "\n",
    "    "
   ]
  },
  {
   "cell_type": "code",
   "execution_count": 12,
   "metadata": {},
   "outputs": [
    {
     "data": {
      "application/vnd.jupyter.widget-view+json": {
       "model_id": "1745a0f29d36493a9574346c227d469e",
       "version_major": 2,
       "version_minor": 0
      },
      "text/plain": [
       "Canvas(toolbar=Toolbar(toolitems=[('Home', 'Reset original view', 'home', 'home'), ('Back', 'Back to previous …"
      ]
     },
     "metadata": {},
     "output_type": "display_data"
    },
    {
     "ename": "KeyError",
     "evalue": "'data_res_off'",
     "output_type": "error",
     "traceback": [
      "\u001b[0;31m---------------------------------------------------------------------------\u001b[0m",
      "\u001b[0;31mKeyError\u001b[0m                                  Traceback (most recent call last)",
      "\u001b[0;32m<ipython-input-12-6809acf60040>\u001b[0m in \u001b[0;36m<module>\u001b[0;34m\u001b[0m\n\u001b[1;32m      1\u001b[0m \u001b[0mplt\u001b[0m\u001b[0;34m.\u001b[0m\u001b[0mfigure\u001b[0m\u001b[0;34m(\u001b[0m\u001b[0;34m)\u001b[0m\u001b[0;34m\u001b[0m\u001b[0;34m\u001b[0m\u001b[0m\n\u001b[0;32m----> 2\u001b[0;31m \u001b[0mplot_metric\u001b[0m\u001b[0;34m(\u001b[0m\u001b[0mresults\u001b[0m\u001b[0;34m,\u001b[0m\u001b[0;34m'data_res_off'\u001b[0m\u001b[0;34m,\u001b[0m\u001b[0mlog\u001b[0m\u001b[0;34m=\u001b[0m\u001b[0;32mTrue\u001b[0m\u001b[0;34m)\u001b[0m\u001b[0;34m\u001b[0m\u001b[0;34m\u001b[0m\u001b[0m\n\u001b[0m\u001b[1;32m      3\u001b[0m \u001b[0mplot_metric\u001b[0m\u001b[0;34m(\u001b[0m\u001b[0mresults\u001b[0m\u001b[0;34m,\u001b[0m\u001b[0;34m'data_res_on'\u001b[0m\u001b[0;34m,\u001b[0m\u001b[0mlog\u001b[0m\u001b[0;34m=\u001b[0m\u001b[0;32mTrue\u001b[0m\u001b[0;34m)\u001b[0m\u001b[0;34m\u001b[0m\u001b[0;34m\u001b[0m\u001b[0m\n\u001b[1;32m      4\u001b[0m \u001b[0mplot_metric\u001b[0m\u001b[0;34m(\u001b[0m\u001b[0mresults\u001b[0m\u001b[0;34m,\u001b[0m \u001b[0;34m'reg_res'\u001b[0m\u001b[0;34m,\u001b[0m\u001b[0mlog\u001b[0m\u001b[0;34m=\u001b[0m\u001b[0;32mTrue\u001b[0m\u001b[0;34m)\u001b[0m\u001b[0;34m\u001b[0m\u001b[0;34m\u001b[0m\u001b[0m\n\u001b[1;32m      5\u001b[0m \u001b[0mplt\u001b[0m\u001b[0;34m.\u001b[0m\u001b[0mlegend\u001b[0m\u001b[0;34m(\u001b[0m\u001b[0;34m)\u001b[0m\u001b[0;34m\u001b[0m\u001b[0;34m\u001b[0m\u001b[0m\n",
      "\u001b[0;32m<ipython-input-11-8fe4a90ea6b9>\u001b[0m in \u001b[0;36mplot_metric\u001b[0;34m(results, name, log, ax)\u001b[0m\n\u001b[1;32m      3\u001b[0m         \u001b[0max\u001b[0m \u001b[0;34m=\u001b[0m \u001b[0mplt\u001b[0m\u001b[0;34m.\u001b[0m\u001b[0mgca\u001b[0m\u001b[0;34m(\u001b[0m\u001b[0;34m)\u001b[0m\u001b[0;34m\u001b[0m\u001b[0;34m\u001b[0m\u001b[0m\n\u001b[1;32m      4\u001b[0m     \u001b[0;32mif\u001b[0m \u001b[0mlog\u001b[0m\u001b[0;34m:\u001b[0m\u001b[0;34m\u001b[0m\u001b[0;34m\u001b[0m\u001b[0m\n\u001b[0;32m----> 5\u001b[0;31m         \u001b[0mplt\u001b[0m\u001b[0;34m.\u001b[0m\u001b[0msemilogy\u001b[0m\u001b[0;34m(\u001b[0m\u001b[0mresults\u001b[0m\u001b[0;34m[\u001b[0m\u001b[0;34m'metrics'\u001b[0m\u001b[0;34m]\u001b[0m\u001b[0;34m[\u001b[0m\u001b[0mname\u001b[0m\u001b[0;34m]\u001b[0m\u001b[0;34m[\u001b[0m\u001b[0;34m'index'\u001b[0m\u001b[0;34m]\u001b[0m\u001b[0;34m,\u001b[0m \u001b[0mresults\u001b[0m\u001b[0;34m[\u001b[0m\u001b[0;34m'metrics'\u001b[0m\u001b[0;34m]\u001b[0m\u001b[0;34m[\u001b[0m\u001b[0mname\u001b[0m\u001b[0;34m]\u001b[0m\u001b[0;34m[\u001b[0m\u001b[0;34m'values'\u001b[0m\u001b[0;34m]\u001b[0m\u001b[0;34m,\u001b[0m\u001b[0mlabel\u001b[0m\u001b[0;34m=\u001b[0m\u001b[0mname\u001b[0m\u001b[0;34m)\u001b[0m\u001b[0;34m\u001b[0m\u001b[0;34m\u001b[0m\u001b[0m\n\u001b[0m\u001b[1;32m      6\u001b[0m     \u001b[0;32melse\u001b[0m\u001b[0;34m:\u001b[0m\u001b[0;34m\u001b[0m\u001b[0;34m\u001b[0m\u001b[0m\n\u001b[1;32m      7\u001b[0m         \u001b[0mplt\u001b[0m\u001b[0;34m.\u001b[0m\u001b[0mplot\u001b[0m\u001b[0;34m(\u001b[0m\u001b[0mresults\u001b[0m\u001b[0;34m[\u001b[0m\u001b[0;34m'metrics'\u001b[0m\u001b[0;34m]\u001b[0m\u001b[0;34m[\u001b[0m\u001b[0mname\u001b[0m\u001b[0;34m]\u001b[0m\u001b[0;34m[\u001b[0m\u001b[0;34m'index'\u001b[0m\u001b[0;34m]\u001b[0m\u001b[0;34m,\u001b[0m \u001b[0mresults\u001b[0m\u001b[0;34m[\u001b[0m\u001b[0;34m'metrics'\u001b[0m\u001b[0;34m]\u001b[0m\u001b[0;34m[\u001b[0m\u001b[0mname\u001b[0m\u001b[0;34m]\u001b[0m\u001b[0;34m[\u001b[0m\u001b[0;34m'values'\u001b[0m\u001b[0;34m]\u001b[0m\u001b[0;34m,\u001b[0m\u001b[0mlabel\u001b[0m\u001b[0;34m=\u001b[0m\u001b[0mname\u001b[0m\u001b[0;34m)\u001b[0m\u001b[0;34m\u001b[0m\u001b[0;34m\u001b[0m\u001b[0m\n",
      "\u001b[0;31mKeyError\u001b[0m: 'data_res_off'"
     ]
    }
   ],
   "source": [
    "plt.figure()\n",
    "plot_metric(results,'data_res_off',log=True)\n",
    "plot_metric(results,'data_res_on',log=True)\n",
    "plot_metric(results, 'reg_res',log=True)\n",
    "plt.legend()\n",
    "fig,axs = plt.subplots(2,1)\n",
    "plt.sca(axs[0])\n",
    "plot_metric(results,'psnr',log=False)\n",
    "plt.sca(axs[1])\n",
    "plot_metric(results,'ssim',log=True)\n",
    "plt.legend()\n",
    "\n",
    "\n",
    "psnr = psnr_ssos(x,real_img,mask=square_mask)\n",
    "ssim = ssim_ssos(x,real_img,mask=square_mask)\n",
    "\n",
    "plt.figure()\n",
    "plt.plot(abs(real_img[320]),label='ref')\n",
    "plt.plot(abs(ssos(x)[320]),label='xf')\n",
    "plt.legend()"
   ]
  },
  {
   "cell_type": "markdown",
   "metadata": {},
   "source": [
    "## Multicoil"
   ]
  },
  {
   "cell_type": "code",
   "execution_count": 16,
   "metadata": {},
   "outputs": [
    {
     "name": "stderr",
     "output_type": "stream",
     "text": [
      "81it [01:08,  1.17it/s]                        \n"
     ]
    }
   ],
   "source": [
    "full_k, real_img, mask_loc, final_mask = load_data(DATA_DIR,2, monocoil=False,use_ref_kspace=True)\n",
    "final_k = np.squeeze(full_k * final_mask[np.newaxis,...])\n",
    "\n",
    "kspace_gen = Column2DKspaceGenerator(final_k, mask_cols=mask_loc)\n",
    "K_DIM = kspace_gen.shape[-2:]\n",
    "N_COILS = kspace_gen.shape[0] if full_k.ndim == 3 else 1\n",
    "# The fourier Operator apply also the sampling mask.\n",
    "fourier_op = FFT(shape=K_DIM,n_coils=N_COILS, mask=final_mask)\n",
    "# Wavelets coefficients for each coils\n",
    "linear_op = WaveletN(\"sym8\", nb_scale=4, n_coils=N_COILS, n_jobs=N_JOBS)\n",
    "# initialisation of wavelet transform\n",
    "linear_op.op(np.zeros_like(full_k))\n",
    "\n",
    "# Regularizer definition\n",
    "if N_COILS ==1:\n",
    "    GL_op = LASSO(weights=2e-6)\n",
    "else:\n",
    "    GL_op = GroupLASSO(weights=2e-6)\n",
    "\n",
    "OWL_op = OWL(alpha=1e-05,\n",
    "             beta=1e-12,\n",
    "             bands_shape=linear_op.coeffs_shape,\n",
    "             mode='band_based',\n",
    "             n_coils=N_COILS,\n",
    "             n_jobs=N_JOBS)\n",
    "\n",
    "online_pb = OnlineReconstructor(fourier_op,\n",
    "#                                 Identity(),\n",
    "#                                 regularizer_op=IdentityProx(),\n",
    "                                linear_op,\n",
    "                                regularizer_op=GL_op,\n",
    "                                opt='fista',\n",
    "                                verbose=0)\n",
    "\n",
    "metrics_config = create_cartesian_metrics(online_pb, real_img, final_mask, final_k)\n",
    "\n",
    "results = online_pb.reconstruct(kspace_gen,\n",
    "                                 eta=1.9,\n",
    "#                                 epoch_size=80,\n",
    "                                #**metrics_config,\n",
    "                                )\n",
    "x=ssos(results['x_final'])\n",
    "psnr = psnr_ssos(x,real_img, mask=square_mask)\n",
    "ssim = ssim_ssos(x, real_img, mask=square_mask)\n"
   ]
  },
  {
   "cell_type": "code",
   "execution_count": 19,
   "metadata": {},
   "outputs": [
    {
     "data": {
      "application/vnd.jupyter.widget-view+json": {
       "model_id": "cc8e63d69c0848fead4d19d649b2f5b8",
       "version_major": 2,
       "version_minor": 0
      },
      "text/plain": [
       "Canvas(toolbar=Toolbar(toolitems=[('Home', 'Reset original view', 'home', 'home'), ('Back', 'Back to previous …"
      ]
     },
     "metadata": {},
     "output_type": "display_data"
    }
   ],
   "source": [
    "\n",
    "\n",
    "psnr = psnr_ssos(x,real_img,mask=square_mask)\n",
    "ssim = ssim_ssos(x,real_img,mask=square_mask)\n",
    "fig = implot(ssos(x),title=f\"PSNR = {psnr:.2f} dB, ssim={ssim:.3f}\",mask=square_mask)\n",
    "fig.savefig(\"fista.png\",bbox_inches='tight',dpi=200)\n",
    "!mogrify -trim fista.png"
   ]
  },
  {
   "cell_type": "code",
   "execution_count": null,
   "metadata": {},
   "outputs": [],
   "source": [
    "plt.figure()\n",
    "plot_metric(results,'data_res_off',log=True)\n",
    "plot_metric(results,'data_res_on',log=True)\n",
    "plot_metric(results, 'reg_res',log=True)\n",
    "plt.legend()\n"
   ]
  },
  {
   "cell_type": "code",
   "execution_count": null,
   "metadata": {},
   "outputs": [],
   "source": []
  }
 ],
 "metadata": {
  "kernelspec": {
   "display_name": "Python 3",
   "language": "python",
   "name": "python3"
  },
  "language_info": {
   "codemirror_mode": {
    "name": "ipython",
    "version": 3
   },
   "file_extension": ".py",
   "mimetype": "text/x-python",
   "name": "python",
   "nbconvert_exporter": "python",
   "pygments_lexer": "ipython3",
   "version": "3.9.5"
  }
 },
 "nbformat": 4,
 "nbformat_minor": 4
}
