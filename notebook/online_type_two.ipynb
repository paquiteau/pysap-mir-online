{
 "cells": [
  {
   "cell_type": "code",
   "execution_count": 1,
   "metadata": {},
   "outputs": [
    {
     "name": "stdout",
     "output_type": "stream",
     "text": [
      "/home/pac/gits/phd/mri-online\n"
     ]
    }
   ],
   "source": [
    "%cd /home/pac/gits/phd/mri-online/\n",
    "%matplotlib widget"
   ]
  },
  {
   "cell_type": "code",
   "execution_count": 2,
   "metadata": {
    "tags": []
   },
   "outputs": [
    {
     "name": "stderr",
     "output_type": "stream",
     "text": [
      "/home/pac/gits/phd/pysap-mri/mri/operators/fourier/non_cartesian.py:27: UserWarning: pynfft python package has not been found. If needed use the master release.\n",
      "  warnings.warn(\"pynfft python package has not been found. If needed use \"\n",
      "/home/pac/gits/phd/pysap-mri/mri/operators/fourier/non_cartesian.py:42: UserWarning: gpuNUFFT python package has not been found. If needed please check on how to install in README\n",
      "  warnings.warn(\"gpuNUFFT python package has not been found. If needed \"\n"
     ]
    }
   ],
   "source": [
    "import os\n",
    "import time\n",
    "import numpy as np\n",
    "import copy\n",
    "import matplotlib.pyplot as plt\n",
    "import scipy as sp\n",
    "from mri.operators import FFT,WaveletN, OWL\n",
    "from modopt.opt.linear import Identity\n",
    "from modopt.opt.proximity import GroupLASSO, IdentityProx\n",
    "from online.operators.proximity import LASSO\n",
    "from online.generators import Column2DKspaceGenerator,  DataOnlyKspaceGenerator, KspaceGenerator, PartialColumn2DKspaceGenerator\n",
    "from online.reconstructors import OnlineReconstructor\n",
    "from online.operators.fourier import ColumnFFT\n",
    "from project_utils import implot, load_data, create_cartesian_metrics\n",
    "from online.metrics import ssos, psnr_ssos,ssim_ssos,mse_ssos\n",
    "\n",
    "plt.rcParams['axes.formatter.useoffset'] = False\n",
    "\n",
    "plt.style.use({'figure.facecolor':'white'})"
   ]
  },
  {
   "cell_type": "code",
   "execution_count": 3,
   "metadata": {},
   "outputs": [],
   "source": [
    "def plot_metric(results, name, *args, log=False, ax=None,**kwargs):\n",
    "    if ax == None:\n",
    "        ax = plt.gca()\n",
    "    if log:\n",
    "        ax.semilogy(results['metrics'][name]['index'], results['metrics'][name]['values'],*args,**kwargs,label=name)\n",
    "    else:\n",
    "        ax.plot(results['metrics'][name]['index'], results['metrics'][name]['values'],*args, **kwargs,label=name)\n"
   ]
  },
  {
   "cell_type": "code",
   "execution_count": 4,
   "metadata": {
    "collapsed": false,
    "jupyter": {
     "outputs_hidden": false
    },
    "pycharm": {
     "name": "#%%\n"
    }
   },
   "outputs": [],
   "source": [
    "DATA_DIR = \"data/\"\n",
    "N_JOBS = -1\n",
    "results = dict()\n",
    "\n",
    "\n",
    "full_k, real_img, mask_loc, final_mask = load_data(DATA_DIR, 2, monocoil=False)\n",
    "final_k = np.squeeze(full_k * final_mask[np.newaxis])\n",
    "square_mask= np.zeros(real_img.shape)\n",
    "real_img_size = real_img.shape\n",
    "img_size = [min(real_img.shape)]*2\n",
    "square_mask[real_img_size[0] // 2 - img_size[0] // 2:real_img_size[0] // 2 + img_size[0] // 2,\n",
    "            real_img_size[1] // 2 - img_size[1] // 2:real_img_size[1] // 2 + img_size[1] // 2] = 1"
   ]
  },
  {
   "cell_type": "markdown",
   "metadata": {
    "pycharm": {
     "name": "#%% md\n"
    }
   },
   "source": [
    "# Type II reconstruction"
   ]
  },
  {
   "cell_type": "code",
   "execution_count": 10,
   "metadata": {},
   "outputs": [],
   "source": [
    "full_k, real_img, mask_loc, final_mask = load_data(DATA_DIR, 2, monocoil=False)\n",
    "final_k = np.squeeze(full_k * final_mask[np.newaxis])\n",
    "\n",
    "line_kspace_gen = DataOnlyKspaceGenerator(full_kspace=final_k, mask_cols=mask_loc)\n",
    "kspace_gen = PartialColumn2DKspaceGenerator(full_kspace=final_k, mask_cols=mask_loc)\n",
    "\n",
    "K_DIM = line_kspace_gen.shape[-2:]\n",
    "N_COILS = line_kspace_gen.shape[0] if full_k.ndim == 3 else 1\n",
    "#line_fourier_op = ColumnFFT(shape=K_DIM, mask=final_mask, n_coils=N_COILS)\n",
    "line_fourier_op = ColumnFFT(shape=K_DIM, n_coils=N_COILS)\n",
    "fourier_op = FFT(shape=K_DIM,n_coils=N_COILS, mask=final_mask)\n"
   ]
  },
  {
   "cell_type": "code",
   "execution_count": 11,
   "metadata": {
    "pycharm": {
     "name": "#%%\n"
    }
   },
   "outputs": [],
   "source": [
    "linear_op = WaveletN(\"sym8\", nb_scale=4, n_coils=N_COILS, n_jobs=N_JOBS)\n",
    "# initialisation of wavelet transform\n",
    "linear_op.op(np.zeros_like(final_k))\n",
    "\n",
    "# Regularizer definition\n",
    "# Regularizer definition\n",
    "if N_COILS ==1:\n",
    "    GL_op = LASSO(weights=2e-6)\n",
    "else:\n",
    "    GL_op = GroupLASSO(weights=2e-6)\n",
    "    \n",
    "OWL_op = OWL(alpha=1e-05,\n",
    "             beta=1e-12,\n",
    "             bands_shape=linear_op.coeffs_shape,\n",
    "             mode='band_based',\n",
    "             n_coils=N_COILS,\n",
    "             n_jobs=N_JOBS)\n",
    "cost_op_kwargs = {'cost_interval': 1}"
   ]
  },
  {
   "cell_type": "code",
   "execution_count": 15,
   "metadata": {},
   "outputs": [
    {
     "name": "stderr",
     "output_type": "stream",
     "text": [
      "  0%|          | 0/80 [00:00<?, ?it/s]"
     ]
    },
    {
     "name": "stdout",
     "output_type": "stream",
     "text": [
      "vanilla\n"
     ]
    },
    {
     "name": "stderr",
     "output_type": "stream",
     "text": [
      "100%|██████████| 80/80 [00:22<00:00,  3.61it/s]\n"
     ]
    },
    {
     "data": {
      "application/vnd.jupyter.widget-view+json": {
       "model_id": "d2f25d91d6034bbbb6a0a4a44e1a7fc3",
       "version_major": 2,
       "version_minor": 0
      },
      "text/plain": [
       "Canvas(toolbar=Toolbar(toolitems=[('Home', 'Reset original view', 'home', 'home'), ('Back', 'Back to previous …"
      ]
     },
     "metadata": {},
     "output_type": "display_data"
    }
   ],
   "source": [
    "online_pb = OnlineReconstructor(line_fourier_op,\n",
    "                                Identity(),\n",
    "                                regularizer_op=IdentityProx(),\n",
    "#                                 linear_op,\n",
    "#                                 regularizer_op=OWL_op,\n",
    "                                opt='vanilla',\n",
    "                                verbose=0)\n",
    "\n",
    "metrics_config = create_cartesian_metrics(online_pb, real_img, final_mask, final_k)\n",
    "metrics_config['metrics']['grad'] = {'metric': lambda x,y: np.sqrt(np.sum(np.square(abs(y*x)))),\n",
    "                               'mapping': {'dir_grad': 'x',\n",
    "                                           'speed_grad':'y'},\n",
    "                               'early_stopping': False,\n",
    "                               'cst_kwargs': dict(),\n",
    "                               }\n",
    "\n",
    "# metrics_config['metrics'].pop('ssim')\n",
    "# metrics_config['metrics'].pop('psnr')\n",
    "\n",
    "results = online_pb.reconstruct(line_kspace_gen,\n",
    "                                eta=1.,\n",
    "                                beta=1.,\n",
    "#                                 eta_update= lambda eta, idx: eta*1.001,\n",
    "                       #         **metrics_config,\n",
    "                                epsilon=1e-8,\n",
    "                                nb_run=1,\n",
    "                                epoch_size=1,\n",
    "                                )\n",
    "x=ssos(results['x_final'])\n",
    "\n",
    "psnr = psnr_ssos(x,real_img,mask=square_mask)\n",
    "ssim = ssim_ssos(x,real_img,mask=square_mask)\n",
    "implot(x,title=f\"PSNR = {psnr:.2f} dB, ssim={ssim:.3f}\",mask=square_mask, colorbar=True);\n",
    "                                  \n",
    "                                  "
   ]
  },
  {
   "cell_type": "code",
   "execution_count": null,
   "metadata": {},
   "outputs": [],
   "source": []
  },
  {
   "cell_type": "code",
   "execution_count": 16,
   "metadata": {},
   "outputs": [
    {
     "data": {
      "application/vnd.jupyter.widget-view+json": {
       "model_id": "e7d7a2be37d34175b017ae84d6e90798",
       "version_major": 2,
       "version_minor": 0
      },
      "text/plain": [
       "Canvas(toolbar=Toolbar(toolitems=[('Home', 'Reset original view', 'home', 'home'), ('Back', 'Back to previous …"
      ]
     },
     "metadata": {},
     "output_type": "display_data"
    },
    {
     "data": {
      "application/vnd.jupyter.widget-view+json": {
       "model_id": "da1db60ed3ba43bc8d3571d845f2ca31",
       "version_major": 2,
       "version_minor": 0
      },
      "text/plain": [
       "Canvas(toolbar=Toolbar(toolitems=[('Home', 'Reset original view', 'home', 'home'), ('Back', 'Back to previous …"
      ]
     },
     "metadata": {},
     "output_type": "display_data"
    },
    {
     "ename": "KeyError",
     "evalue": "'data_res_off'",
     "output_type": "error",
     "traceback": [
      "\u001b[0;31m---------------------------------------------------------------------------\u001b[0m",
      "\u001b[0;31mKeyError\u001b[0m                                  Traceback (most recent call last)",
      "\u001b[0;32m<ipython-input-16-0cead4e33d71>\u001b[0m in \u001b[0;36m<module>\u001b[0;34m\u001b[0m\n\u001b[1;32m      4\u001b[0m \u001b[0mplt\u001b[0m\u001b[0;34m.\u001b[0m\u001b[0mlegend\u001b[0m\u001b[0;34m(\u001b[0m\u001b[0;34m)\u001b[0m\u001b[0;34m\u001b[0m\u001b[0;34m\u001b[0m\u001b[0m\n\u001b[1;32m      5\u001b[0m \u001b[0mplt\u001b[0m\u001b[0;34m.\u001b[0m\u001b[0mfigure\u001b[0m\u001b[0;34m(\u001b[0m\u001b[0;34m)\u001b[0m\u001b[0;34m\u001b[0m\u001b[0;34m\u001b[0m\u001b[0m\n\u001b[0;32m----> 6\u001b[0;31m \u001b[0mplot_metric\u001b[0m\u001b[0;34m(\u001b[0m\u001b[0mresults\u001b[0m\u001b[0;34m,\u001b[0m\u001b[0;34m'data_res_off'\u001b[0m\u001b[0;34m,\u001b[0m\u001b[0mlog\u001b[0m\u001b[0;34m=\u001b[0m\u001b[0;32mTrue\u001b[0m\u001b[0;34m)\u001b[0m\u001b[0;34m\u001b[0m\u001b[0;34m\u001b[0m\u001b[0m\n\u001b[0m\u001b[1;32m      7\u001b[0m \u001b[0mplot_metric\u001b[0m\u001b[0;34m(\u001b[0m\u001b[0mresults\u001b[0m\u001b[0;34m,\u001b[0m\u001b[0;34m'data_res_on'\u001b[0m\u001b[0;34m,\u001b[0m\u001b[0mlog\u001b[0m\u001b[0;34m=\u001b[0m\u001b[0;32mTrue\u001b[0m\u001b[0;34m)\u001b[0m\u001b[0;34m\u001b[0m\u001b[0;34m\u001b[0m\u001b[0m\n\u001b[1;32m      8\u001b[0m \u001b[0mplot_metric\u001b[0m\u001b[0;34m(\u001b[0m\u001b[0mresults\u001b[0m\u001b[0;34m,\u001b[0m\u001b[0;34m'grad'\u001b[0m\u001b[0;34m,\u001b[0m\u001b[0;34m'--'\u001b[0m\u001b[0;34m,\u001b[0m\u001b[0mlog\u001b[0m\u001b[0;34m=\u001b[0m\u001b[0;32mTrue\u001b[0m\u001b[0;34m)\u001b[0m\u001b[0;34m\u001b[0m\u001b[0;34m\u001b[0m\u001b[0m\n",
      "\u001b[0;32m<ipython-input-3-23a2d0c93d78>\u001b[0m in \u001b[0;36mplot_metric\u001b[0;34m(results, name, log, ax, *args, **kwargs)\u001b[0m\n\u001b[1;32m      3\u001b[0m         \u001b[0max\u001b[0m \u001b[0;34m=\u001b[0m \u001b[0mplt\u001b[0m\u001b[0;34m.\u001b[0m\u001b[0mgca\u001b[0m\u001b[0;34m(\u001b[0m\u001b[0;34m)\u001b[0m\u001b[0;34m\u001b[0m\u001b[0;34m\u001b[0m\u001b[0m\n\u001b[1;32m      4\u001b[0m     \u001b[0;32mif\u001b[0m \u001b[0mlog\u001b[0m\u001b[0;34m:\u001b[0m\u001b[0;34m\u001b[0m\u001b[0;34m\u001b[0m\u001b[0m\n\u001b[0;32m----> 5\u001b[0;31m         \u001b[0max\u001b[0m\u001b[0;34m.\u001b[0m\u001b[0msemilogy\u001b[0m\u001b[0;34m(\u001b[0m\u001b[0mresults\u001b[0m\u001b[0;34m[\u001b[0m\u001b[0;34m'metrics'\u001b[0m\u001b[0;34m]\u001b[0m\u001b[0;34m[\u001b[0m\u001b[0mname\u001b[0m\u001b[0;34m]\u001b[0m\u001b[0;34m[\u001b[0m\u001b[0;34m'index'\u001b[0m\u001b[0;34m]\u001b[0m\u001b[0;34m,\u001b[0m \u001b[0mresults\u001b[0m\u001b[0;34m[\u001b[0m\u001b[0;34m'metrics'\u001b[0m\u001b[0;34m]\u001b[0m\u001b[0;34m[\u001b[0m\u001b[0mname\u001b[0m\u001b[0;34m]\u001b[0m\u001b[0;34m[\u001b[0m\u001b[0;34m'values'\u001b[0m\u001b[0;34m]\u001b[0m\u001b[0;34m,\u001b[0m\u001b[0;34m*\u001b[0m\u001b[0margs\u001b[0m\u001b[0;34m,\u001b[0m\u001b[0;34m**\u001b[0m\u001b[0mkwargs\u001b[0m\u001b[0;34m,\u001b[0m\u001b[0mlabel\u001b[0m\u001b[0;34m=\u001b[0m\u001b[0mname\u001b[0m\u001b[0;34m)\u001b[0m\u001b[0;34m\u001b[0m\u001b[0;34m\u001b[0m\u001b[0m\n\u001b[0m\u001b[1;32m      6\u001b[0m     \u001b[0;32melse\u001b[0m\u001b[0;34m:\u001b[0m\u001b[0;34m\u001b[0m\u001b[0;34m\u001b[0m\u001b[0m\n\u001b[1;32m      7\u001b[0m         \u001b[0max\u001b[0m\u001b[0;34m.\u001b[0m\u001b[0mplot\u001b[0m\u001b[0;34m(\u001b[0m\u001b[0mresults\u001b[0m\u001b[0;34m[\u001b[0m\u001b[0;34m'metrics'\u001b[0m\u001b[0;34m]\u001b[0m\u001b[0;34m[\u001b[0m\u001b[0mname\u001b[0m\u001b[0;34m]\u001b[0m\u001b[0;34m[\u001b[0m\u001b[0;34m'index'\u001b[0m\u001b[0;34m]\u001b[0m\u001b[0;34m,\u001b[0m \u001b[0mresults\u001b[0m\u001b[0;34m[\u001b[0m\u001b[0;34m'metrics'\u001b[0m\u001b[0;34m]\u001b[0m\u001b[0;34m[\u001b[0m\u001b[0mname\u001b[0m\u001b[0;34m]\u001b[0m\u001b[0;34m[\u001b[0m\u001b[0;34m'values'\u001b[0m\u001b[0;34m]\u001b[0m\u001b[0;34m,\u001b[0m\u001b[0;34m*\u001b[0m\u001b[0margs\u001b[0m\u001b[0;34m,\u001b[0m \u001b[0;34m**\u001b[0m\u001b[0mkwargs\u001b[0m\u001b[0;34m,\u001b[0m\u001b[0mlabel\u001b[0m\u001b[0;34m=\u001b[0m\u001b[0mname\u001b[0m\u001b[0;34m)\u001b[0m\u001b[0;34m\u001b[0m\u001b[0;34m\u001b[0m\u001b[0m\n",
      "\u001b[0;31mKeyError\u001b[0m: 'data_res_off'"
     ]
    }
   ],
   "source": [
    "\n",
    "plt.figure()\n",
    "plt.plot(abs(real_img[320]),label='ref')\n",
    "plt.plot(abs(ssos(x)[320]),label='xf')\n",
    "plt.legend()\n",
    "plt.figure()\n",
    "plot_metric(results,'data_res_off',log=True)\n",
    "plot_metric(results,'data_res_on',log=True)\n",
    "plot_metric(results,'grad','--',log=True)\n",
    "plot_metric(results, 'reg_res',log=True)\n",
    "plt.legend()\n",
    "fig, (ax1, ax2) = plt.subplots(2, 1)\n",
    "plot_metric(results,'psnr',ax=ax1)\n",
    "plot_metric(results,'ssim',ax=ax2)\n"
   ]
  },
  {
   "cell_type": "code",
   "execution_count": null,
   "metadata": {},
   "outputs": [],
   "source": []
  },
  {
   "cell_type": "code",
   "execution_count": null,
   "metadata": {},
   "outputs": [],
   "source": []
  }
 ],
 "metadata": {
  "kernelspec": {
   "display_name": "Python 3",
   "language": "python",
   "name": "python3"
  },
  "language_info": {
   "codemirror_mode": {
    "name": "ipython",
    "version": 3
   },
   "file_extension": ".py",
   "mimetype": "text/x-python",
   "name": "python",
   "nbconvert_exporter": "python",
   "pygments_lexer": "ipython3",
   "version": "3.9.5"
  }
 },
 "nbformat": 4,
 "nbformat_minor": 4
}
